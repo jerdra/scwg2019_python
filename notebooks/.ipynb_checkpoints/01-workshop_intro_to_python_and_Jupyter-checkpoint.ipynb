{
 "cells": [
  {
   "cell_type": "markdown",
   "metadata": {},
   "source": [
    "# Data Analysis and Visualization in Python"
   ]
  },
  {
   "cell_type": "markdown",
   "metadata": {},
   "source": [
    "In this lesson we'll be exploring how we as researchers and staff can use python to perform data analysis in a reproducible manner. \n",
    "\n",
    "Python is a fantastic tool for performing data analysis due to a powerful combination of data analysis packages and the fact that it is a general purpose programming language. This is in contrast to languages like R and MATLAB which are specifically designed as scripting language for analysis for statistical analysis and engineering. \n",
    "\n",
    "The strength of this is the ability to **automate** data analysis workflows (e.g large scale data analysis using high performance computing systems), whilst maintaining cutting edge data analysis frameworks. "
   ]
  },
  {
   "cell_type": "markdown",
   "metadata": {},
   "source": [
    "## Jupyter Notebook\n",
    "\n",
    "A large part of Python's reproducible framework comes from **Jupyter Notebooks** which is the web-based interface that you are currently using. With jupyter notebooks you can perform an analysis all on one page with both code and visualizations together. \n",
    "\n",
    "Jupyter notebooks are great for quick prototyping of software and analysis, but they aren't what you'd use for actual automation. For example if you wanted to develop a new analysis or wanted to test a new script to automate some data management, this would be a great way to start. "
   ]
  },
  {
   "cell_type": "markdown",
   "metadata": {},
   "source": [
    "***"
   ]
  },
  {
   "cell_type": "markdown",
   "metadata": {},
   "source": [
    "## Python basics "
   ]
  },
  {
   "cell_type": "markdown",
   "metadata": {},
   "source": [
    "First let's quickly review some basic programming functionality that you can perform in python"
   ]
  },
  {
   "cell_type": "code",
   "execution_count": null,
   "metadata": {},
   "outputs": [],
   "source": []
  },
  {
   "cell_type": "code",
   "execution_count": null,
   "metadata": {},
   "outputs": [],
   "source": []
  },
  {
   "cell_type": "markdown",
   "metadata": {},
   "source": [
    "A key thing to note is that the computer only knows about variables when we run \"cells\" (the blocks of code). If you *don't run a cell, then the computer doesn't know about the code you wrote*. In addition the computer memorizes what you've run. So for example:"
   ]
  },
  {
   "cell_type": "code",
   "execution_count": null,
   "metadata": {},
   "outputs": [],
   "source": []
  },
  {
   "cell_type": "markdown",
   "metadata": {},
   "source": [
    "So any variables you run are saved in *memory*. Look at the following example:"
   ]
  },
  {
   "cell_type": "code",
   "execution_count": null,
   "metadata": {},
   "outputs": [],
   "source": []
  },
  {
   "cell_type": "code",
   "execution_count": null,
   "metadata": {},
   "outputs": [],
   "source": []
  },
  {
   "cell_type": "markdown",
   "metadata": {},
   "source": [
    "Notice that the variable get's incremented every time you run the block. This is because counter is stored in memory and everytime you run the block you assign a new value of itself plus 1. "
   ]
  },
  {
   "cell_type": "markdown",
   "metadata": {},
   "source": [
    "We can run loops as well!"
   ]
  },
  {
   "cell_type": "code",
   "execution_count": null,
   "metadata": {},
   "outputs": [],
   "source": []
  },
  {
   "cell_type": "markdown",
   "metadata": {},
   "source": [
    "As we expect we print <code> i </code> on every iteration of the loop"
   ]
  },
  {
   "cell_type": "markdown",
   "metadata": {},
   "source": [
    "## Functions"
   ]
  },
  {
   "cell_type": "markdown",
   "metadata": {},
   "source": [
    "This is arguably the most important concept in all of programming and especially for Python. A **Function** is a way to define a set of operations so you can perform them using one-liner *function calls*. To make this clear let's start with an example:"
   ]
  },
  {
   "cell_type": "code",
   "execution_count": null,
   "metadata": {},
   "outputs": [],
   "source": []
  },
  {
   "cell_type": "code",
   "execution_count": null,
   "metadata": {},
   "outputs": [],
   "source": []
  },
  {
   "cell_type": "markdown",
   "metadata": {},
   "source": [
    "Notice a couple of things. All functions start with the following signature:\n",
    "<code> def function_name(): </code>\n",
    "In plain english it means define \"function_name\" as the following. The empty bracket means you don't give the function any inputs. If you wanted inputs to your function you can do it as follows:"
   ]
  },
  {
   "cell_type": "code",
   "execution_count": null,
   "metadata": {},
   "outputs": [],
   "source": []
  },
  {
   "cell_type": "code",
   "execution_count": null,
   "metadata": {},
   "outputs": [],
   "source": []
  },
  {
   "cell_type": "markdown",
   "metadata": {},
   "source": [
    "Notice here that <code>print_square</code> takes an input that is defined by the brackets. \n",
    "The **variable** <code>x</code> used in the function definition could have been anything, what matters is that the variables used in the function are the ones defined in the function definition. Here are some examples to clarify this example:"
   ]
  },
  {
   "cell_type": "code",
   "execution_count": null,
   "metadata": {},
   "outputs": [],
   "source": []
  },
  {
   "cell_type": "code",
   "execution_count": null,
   "metadata": {},
   "outputs": [],
   "source": []
  },
  {
   "cell_type": "markdown",
   "metadata": {},
   "source": [
    "When we defined <code>print_square</code> as using <code>x</code> as an input, the variable <code>y</code> isn't known to the function! You can also have multiple inputs if you'd like as well!"
   ]
  },
  {
   "cell_type": "code",
   "execution_count": null,
   "metadata": {},
   "outputs": [],
   "source": []
  },
  {
   "cell_type": "markdown",
   "metadata": {},
   "source": [
    "Finally we'd like to define functions to make our life easier when running complicated routines. Naturally we'd want to use the **outputs** of functions to do useful things. In Python outputs are defined using a <code>return</code> statement. An example of this is:"
   ]
  },
  {
   "cell_type": "code",
   "execution_count": null,
   "metadata": {},
   "outputs": [],
   "source": []
  },
  {
   "cell_type": "code",
   "execution_count": null,
   "metadata": {},
   "outputs": [],
   "source": []
  },
  {
   "cell_type": "markdown",
   "metadata": {},
   "source": [
    "Similar to how we can specify multiple inputs we can also specify multiple outputs:"
   ]
  },
  {
   "cell_type": "code",
   "execution_count": null,
   "metadata": {},
   "outputs": [],
   "source": []
  },
  {
   "cell_type": "code",
   "execution_count": null,
   "metadata": {},
   "outputs": [],
   "source": []
  },
  {
   "cell_type": "code",
   "execution_count": null,
   "metadata": {},
   "outputs": [],
   "source": []
  },
  {
   "cell_type": "markdown",
   "metadata": {},
   "source": [
    "We'll be using functions frequently during this course because they provide two important aspects of programming:\n",
    "1. Organization - having well-named functions allows you to re-use code and know what it does\n",
    "2. Simplification - wrapping complex routines in a function allows you to make your code more readable. "
   ]
  },
  {
   "cell_type": "markdown",
   "metadata": {},
   "source": [
    "## Python Exception Handling"
   ]
  },
  {
   "cell_type": "markdown",
   "metadata": {},
   "source": [
    "Python exception handling is extraordinarily useful *when you know there are instances in which your code will fail!*. Let's start with a simple but incredibly useful example: **type conversion**\n",
    "\n",
    "**Type Conversion** is the process of converting data from one type to another. Python has many data-types but two stand-out data types are <code>string</code> and <code>float</code>. Let's suppose I have a number, any number, for example:\n",
    "\n",
    "```python\n",
    "x = 10.232891\n",
    "```\n",
    "\n",
    "That I wanted to convert to a string format. The equivalent string format looks like this:\n",
    "\n",
    "```python\n",
    "x = '10.232891'\n",
    "```\n",
    "\n",
    "In this case <code>x</code> is now a string, or a sequence of characters. I can easily convert between the <code>string</code> version of <code>x</code> and the <code>float</code> version of x using python's **type conversion**. This is how it looks:\n",
    "\n",
    "```python\n",
    "x = 10.232891\n",
    "string_x = str(x)\n",
    "```\n",
    "\n",
    "Python has a built-in function called <code>isinstance</code>, that I can use to verify that this is the case:\n",
    "\n",
    "```python\n",
    "isinstance(string_x,string)\n",
    "```\n",
    "This will return <code>True</code>. \n",
    "\n",
    "In the same way I converted a float to a string, I can convert a string to a float. Try it out"
   ]
  },
  {
   "cell_type": "code",
   "execution_count": null,
   "metadata": {},
   "outputs": [],
   "source": []
  },
  {
   "cell_type": "markdown",
   "metadata": {},
   "source": [
    "We can easily verify that *any floating type* can be converted into a string. We can re-write any number any enclose it in <code>''</code> and we're good to go (in most cases)! \n",
    "\n",
    "**But could we convert any string to a floating type variable??**"
   ]
  },
  {
   "cell_type": "code",
   "execution_count": null,
   "metadata": {},
   "outputs": [],
   "source": []
  },
  {
   "cell_type": "markdown",
   "metadata": {},
   "source": [
    "**NOPE!** We can't, and python complains by *raising* a <code>ValueError</code>! This is a special type of error that happens when you perform a function (<code>float(x)</code> in this case) on data that has the right type (<code>string</code>) *but not the right value*. \n",
    "\n",
    "There is no easy numeric representation of 'this is a string' and python complains and crashes. Now suppose we had a list:"
   ]
  },
  {
   "cell_type": "code",
   "execution_count": null,
   "metadata": {},
   "outputs": [],
   "source": []
  },
  {
   "cell_type": "markdown",
   "metadata": {},
   "source": [
    "We'd like to convert everything here into numbers using something like a for loop. For example we could do the following (in theory):\n",
    "\n",
    "```python\n",
    "new_x = [] \n",
    "for i in x:\n",
    "    floating_version = float(i)\n",
    "    new_x.append(floating_version)\n",
    "```\n",
    "\n",
    "And in theory this should give us a numeric version of our original list. Can you guess what happens?"
   ]
  },
  {
   "cell_type": "code",
   "execution_count": null,
   "metadata": {},
   "outputs": [],
   "source": []
  },
  {
   "cell_type": "markdown",
   "metadata": {},
   "source": [
    "And as you might've guessed our computing campaign against strings is thwarted by the mighty 'not string'. So how do we deal with this conundrum? \n",
    "\n",
    "Turns out we can be saved! Python (and *almost every programming language*) has a nifty tool called <code>try/catch</code> exceptions. It works like this:\n",
    "\n",
    "```python\n",
    "try:\n",
    "    \"insert devious code here\"\n",
    "except \"insert error here\":\n",
    "    \"if python complains YOU choose what to do\"\n",
    "else:\n",
    "    \"this is optional, but if python doesn't complain you can choose something else to do\"\n",
    "```\n",
    "\n",
    "For our <code>string</code> to <code>float</code> conversion we could theoretically \"catch\" our <code>ValueError</code> and do something else, like insert a $0$ instead!. Let's see how this pans out in practice"
   ]
  },
  {
   "cell_type": "code",
   "execution_count": null,
   "metadata": {},
   "outputs": [],
   "source": []
  },
  {
   "cell_type": "markdown",
   "metadata": {},
   "source": [
    "No errors! Let's take a look at our new list"
   ]
  },
  {
   "cell_type": "code",
   "execution_count": null,
   "metadata": {},
   "outputs": [],
   "source": []
  },
  {
   "cell_type": "markdown",
   "metadata": {},
   "source": [
    "And look at that! Things worked out all right :)"
   ]
  },
  {
   "cell_type": "markdown",
   "metadata": {},
   "source": [
    "***"
   ]
  },
  {
   "cell_type": "markdown",
   "metadata": {},
   "source": [
    "## Python Packages\n",
    "\n",
    "Python packages is what Python is all about. Essentially they are additional functionality provided by the developers of python and other individuals that you can load on demand and use as you'd like. \n",
    "Let's start with the most basic example, the **math** package which provides some basic mathematical operations."
   ]
  },
  {
   "cell_type": "code",
   "execution_count": null,
   "metadata": {},
   "outputs": [],
   "source": []
  },
  {
   "cell_type": "markdown",
   "metadata": {},
   "source": [
    "Now we can use the <code> . </code> notation to call functions contained within the math package. For example let's use a square root"
   ]
  },
  {
   "cell_type": "code",
   "execution_count": null,
   "metadata": {},
   "outputs": [],
   "source": []
  },
  {
   "cell_type": "markdown",
   "metadata": {},
   "source": [
    "By typing in <code>math.</code> and hitting tab we can view the list of all functions"
   ]
  },
  {
   "cell_type": "code",
   "execution_count": null,
   "metadata": {},
   "outputs": [],
   "source": []
  },
  {
   "cell_type": "markdown",
   "metadata": {},
   "source": [
    "If typing <code> math </code> every time is annoying you can also use *aliases* which are ways to give another name to <code>math</code>"
   ]
  },
  {
   "cell_type": "code",
   "execution_count": null,
   "metadata": {},
   "outputs": [],
   "source": []
  },
  {
   "cell_type": "code",
   "execution_count": null,
   "metadata": {},
   "outputs": [],
   "source": []
  },
  {
   "cell_type": "markdown",
   "metadata": {},
   "source": [
    "In some cases loading packages is **expensive**, that is, they take time to import because they are large in size or require loading many things in the background. To deal with this we can import specific packages using <code>from</code>"
   ]
  },
  {
   "cell_type": "code",
   "execution_count": null,
   "metadata": {},
   "outputs": [],
   "source": []
  },
  {
   "cell_type": "markdown",
   "metadata": {},
   "source": [
    "Notice we can import multiple packages using <code>,</code>. Furthermore we can combine this with an alias!"
   ]
  },
  {
   "cell_type": "code",
   "execution_count": null,
   "metadata": {},
   "outputs": [],
   "source": []
  },
  {
   "cell_type": "markdown",
   "metadata": {},
   "source": [
    "Here we imported square root and exponential as <code> s </code> and <code> e </code> respectively!"
   ]
  },
  {
   "cell_type": "markdown",
   "metadata": {},
   "source": [
    "Packages will form the foundation for how we use python for data analysis, visualization and automation. \n",
    "A few extremely useful packages many python analysts use in their day-to-day and what I use are:"
   ]
  },
  {
   "cell_type": "markdown",
   "metadata": {},
   "source": [
    "- <code> numpy </code> - a python package for dealing with arrays and matrices \n",
    "- <code> pandas </code> - for data wrangling and manipulation using tables\n",
    "- <code> matplotlib </code> - a python library for data visualization (tries to copy MATLAB)\n",
    "- <code> seaborn </code> - a statistical visualization library\n",
    "- <code> scipy </code> - a scientific computing library"
   ]
  },
  {
   "cell_type": "markdown",
   "metadata": {},
   "source": [
    "For this course we'll be using <code> pandas </code> which allows us to treat data like spreadsheet tables"
   ]
  }
 ],
 "metadata": {
  "kernelspec": {
   "display_name": "Python 3",
   "language": "python",
   "name": "python3"
  },
  "language_info": {
   "codemirror_mode": {
    "name": "ipython",
    "version": 3
   },
   "file_extension": ".py",
   "mimetype": "text/x-python",
   "name": "python",
   "nbconvert_exporter": "python",
   "pygments_lexer": "ipython3",
   "version": "3.6.0"
  }
 },
 "nbformat": 4,
 "nbformat_minor": 2
}
