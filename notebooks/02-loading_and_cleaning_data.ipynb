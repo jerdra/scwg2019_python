{
 "cells": [
  {
   "cell_type": "markdown",
   "metadata": {},
   "source": [
    "# Cleaning and Exploring Data"
   ]
  },
  {
   "cell_type": "markdown",
   "metadata": {},
   "source": [
    "***"
   ]
  },
  {
   "cell_type": "markdown",
   "metadata": {},
   "source": [
    "Now that we've grown a bit accustomed to basic operations in python we're going to jump ahead to how we can load in data using Python. When we start dealing with packages you'll notice (especially with <code>pandas</code>) that *programming begins to revolve around the features provided by the package* rather than the basic python introduced to you in the first section. "
   ]
  },
  {
   "cell_type": "code",
   "execution_count": 1,
   "metadata": {},
   "outputs": [],
   "source": [
    "import pandas as pd\n",
    "import numpy as np"
   ]
  },
  {
   "cell_type": "code",
   "execution_count": 2,
   "metadata": {},
   "outputs": [],
   "source": [
    "#Data to use\n",
    "demographics_data = '../data/demographics.csv'\n",
    "cognitive_data = '../data/cognitive_scoring.csv'\n",
    "neuro_data = '../data/brain_measurements.csv'\n",
    "reaction_data = '../data/rt_trial_data.csv'"
   ]
  },
  {
   "cell_type": "markdown",
   "metadata": {},
   "source": [
    "## Basic Pandas Data Exploration"
   ]
  },
  {
   "cell_type": "markdown",
   "metadata": {},
   "source": [
    "First we'll start off with the simplest of tasks, suppose that I'd like to load in a CSV and get an idea of what the data might look like. Using <code>pandas</code> this is as easy as a one-liner. We can simply load in the data as a table and explore it effortlessly"
   ]
  },
  {
   "cell_type": "code",
   "execution_count": 3,
   "metadata": {},
   "outputs": [],
   "source": [
    "demo_df = pd.read_csv(demographics_data)"
   ]
  },
  {
   "cell_type": "markdown",
   "metadata": {},
   "source": [
    "Pandas by default uses a <code>,</code> delimiter, although I can specify it to be anything I want it to be. For example a tab is encoded as <code>\\t</code>, a space is encoded as <code>' '</code>, and so on.\n",
    "\n",
    "\n",
    "demo_df is a **DataFrame** which is a special pandas data-type which contains lots of useful functions. From now on when we say <code>DataFrame.somethinghere</code>, what we actually mean is that you type out (depending on which **DataFrame** we're talking about):\n",
    "\n",
    "```python\n",
    "demo_df.somethinghere\n",
    "```\n",
    "\n",
    "That means that <code>somethinghere</code> is common to *all **DataFrames**, not just* <code>demo_df</code>"
   ]
  },
  {
   "cell_type": "markdown",
   "metadata": {},
   "source": [
    "We can view the first $n$ rows of our data using the <code>head</code> property of the data that we loaded in using pandas"
   ]
  },
  {
   "cell_type": "code",
   "execution_count": 4,
   "metadata": {},
   "outputs": [
    {
     "data": {
      "text/html": [
       "<div>\n",
       "<style scoped>\n",
       "    .dataframe tbody tr th:only-of-type {\n",
       "        vertical-align: middle;\n",
       "    }\n",
       "\n",
       "    .dataframe tbody tr th {\n",
       "        vertical-align: top;\n",
       "    }\n",
       "\n",
       "    .dataframe thead th {\n",
       "        text-align: right;\n",
       "    }\n",
       "</style>\n",
       "<table border=\"1\" class=\"dataframe\">\n",
       "  <thead>\n",
       "    <tr style=\"text-align: right;\">\n",
       "      <th></th>\n",
       "      <th>subject_id</th>\n",
       "      <th>Calculated socioeconomic status score</th>\n",
       "      <th>Education score</th>\n",
       "      <th>Is person case or control?</th>\n",
       "      <th>Is person male or female?</th>\n",
       "    </tr>\n",
       "  </thead>\n",
       "  <tbody>\n",
       "    <tr>\n",
       "      <th>0</th>\n",
       "      <td>h1NuzaHTaJIM6QZi</td>\n",
       "      <td>10.46819275002584</td>\n",
       "      <td>4.414423</td>\n",
       "      <td>control</td>\n",
       "      <td>female</td>\n",
       "    </tr>\n",
       "    <tr>\n",
       "      <th>1</th>\n",
       "      <td>er4E9WZnXGiJCk8r</td>\n",
       "      <td>10.894777891322148</td>\n",
       "      <td>4.529836</td>\n",
       "      <td>control</td>\n",
       "      <td>female</td>\n",
       "    </tr>\n",
       "    <tr>\n",
       "      <th>2</th>\n",
       "      <td>LEm4YtC45KYNwbFg</td>\n",
       "      <td>9.806142643511784</td>\n",
       "      <td>3.455996</td>\n",
       "      <td>case</td>\n",
       "      <td>female</td>\n",
       "    </tr>\n",
       "    <tr>\n",
       "      <th>3</th>\n",
       "      <td>B9sIFZJs6UD51QAm</td>\n",
       "      <td>9.310570231612841</td>\n",
       "      <td>2.813627</td>\n",
       "      <td>control</td>\n",
       "      <td>male</td>\n",
       "    </tr>\n",
       "    <tr>\n",
       "      <th>4</th>\n",
       "      <td>EkWUnI8h1sgopN3a</td>\n",
       "      <td>8.986733675059984</td>\n",
       "      <td>3.485714</td>\n",
       "      <td>control</td>\n",
       "      <td>female</td>\n",
       "    </tr>\n",
       "  </tbody>\n",
       "</table>\n",
       "</div>"
      ],
      "text/plain": [
       "         subject_id Calculated socioeconomic status score  Education score  \\\n",
       "0  h1NuzaHTaJIM6QZi                     10.46819275002584         4.414423   \n",
       "1  er4E9WZnXGiJCk8r                    10.894777891322148         4.529836   \n",
       "2  LEm4YtC45KYNwbFg                     9.806142643511784         3.455996   \n",
       "3  B9sIFZJs6UD51QAm                     9.310570231612841         2.813627   \n",
       "4  EkWUnI8h1sgopN3a                     8.986733675059984         3.485714   \n",
       "\n",
       "  Is person case or control? Is person male or female?  \n",
       "0                    control                    female  \n",
       "1                    control                    female  \n",
       "2                       case                    female  \n",
       "3                    control                      male  \n",
       "4                    control                    female  "
      ]
     },
     "execution_count": 4,
     "metadata": {},
     "output_type": "execute_result"
    }
   ],
   "source": [
    "demo_df.head()"
   ]
  },
  {
   "cell_type": "markdown",
   "metadata": {},
   "source": [
    "Furthermore we could get a quick summary of what all the columns are as well:"
   ]
  },
  {
   "cell_type": "code",
   "execution_count": 5,
   "metadata": {},
   "outputs": [
    {
     "name": "stdout",
     "output_type": "stream",
     "text": [
      "<class 'pandas.core.frame.DataFrame'>\n",
      "RangeIndex: 400 entries, 0 to 399\n",
      "Data columns (total 5 columns):\n",
      "subject_id                               400 non-null object\n",
      "Calculated socioeconomic status score    400 non-null object\n",
      "Education score                          400 non-null float64\n",
      "Is person case or control?               400 non-null object\n",
      "Is person male or female?                400 non-null object\n",
      "dtypes: float64(1), object(4)\n",
      "memory usage: 15.7+ KB\n"
     ]
    }
   ],
   "source": [
    "demo_df.info()"
   ]
  },
  {
   "cell_type": "markdown",
   "metadata": {},
   "source": [
    "Finally we can summarize our entire data-table "
   ]
  },
  {
   "cell_type": "markdown",
   "metadata": {},
   "source": [
    "<code>DataFrame.info</code> gives us a bunch of columns that we can work with in our dataset. For example suppose I just wanted the age data from our table. I can select the 'Age' column in one of two ways:\n",
    "\n",
    "1. demo_df.subject_id\n",
    "2. demo_df['subject_id'] \n",
    "\n",
    "***\n",
    "*Note that this does not work when the columns have spaces! We'll deal with this in a bit*\n",
    "***\n",
    "\n",
    "The second method has the advantage in that you can input a *list* of columns to pull out. For example:\n",
    "```python\n",
    "columns = ['subject_id','Is person male or female?','Education score']\n",
    "demo_df[columns] \n",
    "```\n",
    "or\n",
    "\n",
    "```python\n",
    "demo_df[ ['subject_id','Is person male or female?','Education score'] ]\n",
    "```\n",
    "\n",
    "Both of which will produce equivalent results\n"
   ]
  },
  {
   "cell_type": "code",
   "execution_count": 6,
   "metadata": {},
   "outputs": [
    {
     "data": {
      "text/html": [
       "<div>\n",
       "<style scoped>\n",
       "    .dataframe tbody tr th:only-of-type {\n",
       "        vertical-align: middle;\n",
       "    }\n",
       "\n",
       "    .dataframe tbody tr th {\n",
       "        vertical-align: top;\n",
       "    }\n",
       "\n",
       "    .dataframe thead th {\n",
       "        text-align: right;\n",
       "    }\n",
       "</style>\n",
       "<table border=\"1\" class=\"dataframe\">\n",
       "  <thead>\n",
       "    <tr style=\"text-align: right;\">\n",
       "      <th></th>\n",
       "      <th>subject_id</th>\n",
       "      <th>Is person male or female?</th>\n",
       "      <th>Education score</th>\n",
       "    </tr>\n",
       "  </thead>\n",
       "  <tbody>\n",
       "    <tr>\n",
       "      <th>0</th>\n",
       "      <td>h1NuzaHTaJIM6QZi</td>\n",
       "      <td>female</td>\n",
       "      <td>4.414423</td>\n",
       "    </tr>\n",
       "    <tr>\n",
       "      <th>1</th>\n",
       "      <td>er4E9WZnXGiJCk8r</td>\n",
       "      <td>female</td>\n",
       "      <td>4.529836</td>\n",
       "    </tr>\n",
       "    <tr>\n",
       "      <th>2</th>\n",
       "      <td>LEm4YtC45KYNwbFg</td>\n",
       "      <td>female</td>\n",
       "      <td>3.455996</td>\n",
       "    </tr>\n",
       "    <tr>\n",
       "      <th>3</th>\n",
       "      <td>B9sIFZJs6UD51QAm</td>\n",
       "      <td>male</td>\n",
       "      <td>2.813627</td>\n",
       "    </tr>\n",
       "    <tr>\n",
       "      <th>4</th>\n",
       "      <td>EkWUnI8h1sgopN3a</td>\n",
       "      <td>female</td>\n",
       "      <td>3.485714</td>\n",
       "    </tr>\n",
       "  </tbody>\n",
       "</table>\n",
       "</div>"
      ],
      "text/plain": [
       "         subject_id Is person male or female?  Education score\n",
       "0  h1NuzaHTaJIM6QZi                    female         4.414423\n",
       "1  er4E9WZnXGiJCk8r                    female         4.529836\n",
       "2  LEm4YtC45KYNwbFg                    female         3.455996\n",
       "3  B9sIFZJs6UD51QAm                      male         2.813627\n",
       "4  EkWUnI8h1sgopN3a                    female         3.485714"
      ]
     },
     "execution_count": 6,
     "metadata": {},
     "output_type": "execute_result"
    }
   ],
   "source": [
    "#Try selecting multiple columns!\n",
    "demo_df[ ['subject_id','Is person male or female?','Education score'] ].head()"
   ]
  },
  {
   "cell_type": "code",
   "execution_count": 7,
   "metadata": {},
   "outputs": [
    {
     "data": {
      "text/html": [
       "<div>\n",
       "<style scoped>\n",
       "    .dataframe tbody tr th:only-of-type {\n",
       "        vertical-align: middle;\n",
       "    }\n",
       "\n",
       "    .dataframe tbody tr th {\n",
       "        vertical-align: top;\n",
       "    }\n",
       "\n",
       "    .dataframe thead th {\n",
       "        text-align: right;\n",
       "    }\n",
       "</style>\n",
       "<table border=\"1\" class=\"dataframe\">\n",
       "  <thead>\n",
       "    <tr style=\"text-align: right;\">\n",
       "      <th></th>\n",
       "      <th>subject_id</th>\n",
       "      <th>Calculated socioeconomic status score</th>\n",
       "      <th>Education score</th>\n",
       "      <th>Is person case or control?</th>\n",
       "      <th>Is person male or female?</th>\n",
       "    </tr>\n",
       "  </thead>\n",
       "  <tbody>\n",
       "    <tr>\n",
       "      <th>count</th>\n",
       "      <td>400</td>\n",
       "      <td>400</td>\n",
       "      <td>400.000000</td>\n",
       "      <td>400</td>\n",
       "      <td>400</td>\n",
       "    </tr>\n",
       "    <tr>\n",
       "      <th>unique</th>\n",
       "      <td>400</td>\n",
       "      <td>396</td>\n",
       "      <td>NaN</td>\n",
       "      <td>2</td>\n",
       "      <td>2</td>\n",
       "    </tr>\n",
       "    <tr>\n",
       "      <th>top</th>\n",
       "      <td>e2w1FkACJju8WMf7</td>\n",
       "      <td>missing</td>\n",
       "      <td>NaN</td>\n",
       "      <td>case</td>\n",
       "      <td>female</td>\n",
       "    </tr>\n",
       "    <tr>\n",
       "      <th>freq</th>\n",
       "      <td>1</td>\n",
       "      <td>5</td>\n",
       "      <td>NaN</td>\n",
       "      <td>200</td>\n",
       "      <td>203</td>\n",
       "    </tr>\n",
       "    <tr>\n",
       "      <th>mean</th>\n",
       "      <td>NaN</td>\n",
       "      <td>NaN</td>\n",
       "      <td>3.932924</td>\n",
       "      <td>NaN</td>\n",
       "      <td>NaN</td>\n",
       "    </tr>\n",
       "    <tr>\n",
       "      <th>std</th>\n",
       "      <td>NaN</td>\n",
       "      <td>NaN</td>\n",
       "      <td>1.313882</td>\n",
       "      <td>NaN</td>\n",
       "      <td>NaN</td>\n",
       "    </tr>\n",
       "    <tr>\n",
       "      <th>min</th>\n",
       "      <td>NaN</td>\n",
       "      <td>NaN</td>\n",
       "      <td>0.536629</td>\n",
       "      <td>NaN</td>\n",
       "      <td>NaN</td>\n",
       "    </tr>\n",
       "    <tr>\n",
       "      <th>25%</th>\n",
       "      <td>NaN</td>\n",
       "      <td>NaN</td>\n",
       "      <td>2.951655</td>\n",
       "      <td>NaN</td>\n",
       "      <td>NaN</td>\n",
       "    </tr>\n",
       "    <tr>\n",
       "      <th>50%</th>\n",
       "      <td>NaN</td>\n",
       "      <td>NaN</td>\n",
       "      <td>4.048368</td>\n",
       "      <td>NaN</td>\n",
       "      <td>NaN</td>\n",
       "    </tr>\n",
       "    <tr>\n",
       "      <th>75%</th>\n",
       "      <td>NaN</td>\n",
       "      <td>NaN</td>\n",
       "      <td>4.885143</td>\n",
       "      <td>NaN</td>\n",
       "      <td>NaN</td>\n",
       "    </tr>\n",
       "    <tr>\n",
       "      <th>max</th>\n",
       "      <td>NaN</td>\n",
       "      <td>NaN</td>\n",
       "      <td>7.402765</td>\n",
       "      <td>NaN</td>\n",
       "      <td>NaN</td>\n",
       "    </tr>\n",
       "  </tbody>\n",
       "</table>\n",
       "</div>"
      ],
      "text/plain": [
       "              subject_id Calculated socioeconomic status score  \\\n",
       "count                400                                   400   \n",
       "unique               400                                   396   \n",
       "top     e2w1FkACJju8WMf7                               missing   \n",
       "freq                   1                                     5   \n",
       "mean                 NaN                                   NaN   \n",
       "std                  NaN                                   NaN   \n",
       "min                  NaN                                   NaN   \n",
       "25%                  NaN                                   NaN   \n",
       "50%                  NaN                                   NaN   \n",
       "75%                  NaN                                   NaN   \n",
       "max                  NaN                                   NaN   \n",
       "\n",
       "        Education score Is person case or control? Is person male or female?  \n",
       "count        400.000000                        400                       400  \n",
       "unique              NaN                          2                         2  \n",
       "top                 NaN                       case                    female  \n",
       "freq                NaN                        200                       203  \n",
       "mean           3.932924                        NaN                       NaN  \n",
       "std            1.313882                        NaN                       NaN  \n",
       "min            0.536629                        NaN                       NaN  \n",
       "25%            2.951655                        NaN                       NaN  \n",
       "50%            4.048368                        NaN                       NaN  \n",
       "75%            4.885143                        NaN                       NaN  \n",
       "max            7.402765                        NaN                       NaN  "
      ]
     },
     "execution_count": 7,
     "metadata": {},
     "output_type": "execute_result"
    }
   ],
   "source": [
    "#We use include='all' since by default when there is a mix of numeric columns (respondent ID) and non-numeric columns\n",
    "# such as categories, pandas only analyzes the numeric columns.\n",
    "demo_df.describe(include='all')"
   ]
  },
  {
   "cell_type": "markdown",
   "metadata": {},
   "source": [
    "## Conditional data selection"
   ]
  },
  {
   "cell_type": "markdown",
   "metadata": {},
   "source": [
    "What if we wanted to select rows in which the individual's sex is female? This is called conditional selection and is incredibly useful for exploring, cleaning and analyzing data! Conditional selection is typically done through a two step process:\n",
    "\n",
    "- Step 1: Pick a condition to mask with\n",
    "- Step 2: Pull out rows/columns that meet this condition\n",
    "\n",
    "We can do this in the following way:"
   ]
  },
  {
   "cell_type": "code",
   "execution_count": 8,
   "metadata": {},
   "outputs": [
    {
     "data": {
      "text/plain": [
       "0     True\n",
       "1     True\n",
       "2     True\n",
       "3    False\n",
       "4     True\n",
       "Name: Is person male or female?, dtype: bool"
      ]
     },
     "execution_count": 8,
     "metadata": {},
     "output_type": "execute_result"
    }
   ],
   "source": [
    "#Step 1 -- make a conditional mask\n",
    "female_mask = demo_df['Is person male or female?'] == 'female'\n",
    "female_mask.head()"
   ]
  },
  {
   "cell_type": "markdown",
   "metadata": {},
   "source": [
    "<code>female_mask</code> is a *conditional series*, meaning that for each **index** (the left-hand number) there is an associated value (True or False). To select rows from the original DataFrame <code>demo_df</code> in which <code>female_mask</code> is <code>True</code>, we use the <code>df.loc</code> function, which works as follows:"
   ]
  },
  {
   "cell_type": "code",
   "execution_count": 9,
   "metadata": {},
   "outputs": [
    {
     "data": {
      "text/html": [
       "<div>\n",
       "<style scoped>\n",
       "    .dataframe tbody tr th:only-of-type {\n",
       "        vertical-align: middle;\n",
       "    }\n",
       "\n",
       "    .dataframe tbody tr th {\n",
       "        vertical-align: top;\n",
       "    }\n",
       "\n",
       "    .dataframe thead th {\n",
       "        text-align: right;\n",
       "    }\n",
       "</style>\n",
       "<table border=\"1\" class=\"dataframe\">\n",
       "  <thead>\n",
       "    <tr style=\"text-align: right;\">\n",
       "      <th></th>\n",
       "      <th>subject_id</th>\n",
       "      <th>Calculated socioeconomic status score</th>\n",
       "      <th>Education score</th>\n",
       "      <th>Is person case or control?</th>\n",
       "      <th>Is person male or female?</th>\n",
       "    </tr>\n",
       "  </thead>\n",
       "  <tbody>\n",
       "    <tr>\n",
       "      <th>0</th>\n",
       "      <td>h1NuzaHTaJIM6QZi</td>\n",
       "      <td>10.46819275002584</td>\n",
       "      <td>4.414423</td>\n",
       "      <td>control</td>\n",
       "      <td>female</td>\n",
       "    </tr>\n",
       "    <tr>\n",
       "      <th>1</th>\n",
       "      <td>er4E9WZnXGiJCk8r</td>\n",
       "      <td>10.894777891322148</td>\n",
       "      <td>4.529836</td>\n",
       "      <td>control</td>\n",
       "      <td>female</td>\n",
       "    </tr>\n",
       "    <tr>\n",
       "      <th>2</th>\n",
       "      <td>LEm4YtC45KYNwbFg</td>\n",
       "      <td>9.806142643511784</td>\n",
       "      <td>3.455996</td>\n",
       "      <td>case</td>\n",
       "      <td>female</td>\n",
       "    </tr>\n",
       "    <tr>\n",
       "      <th>4</th>\n",
       "      <td>EkWUnI8h1sgopN3a</td>\n",
       "      <td>8.986733675059984</td>\n",
       "      <td>3.485714</td>\n",
       "      <td>control</td>\n",
       "      <td>female</td>\n",
       "    </tr>\n",
       "    <tr>\n",
       "      <th>5</th>\n",
       "      <td>jaLH0mWDEjbncGbL</td>\n",
       "      <td>9.56720981988074</td>\n",
       "      <td>4.564721</td>\n",
       "      <td>control</td>\n",
       "      <td>female</td>\n",
       "    </tr>\n",
       "  </tbody>\n",
       "</table>\n",
       "</div>"
      ],
      "text/plain": [
       "         subject_id Calculated socioeconomic status score  Education score  \\\n",
       "0  h1NuzaHTaJIM6QZi                     10.46819275002584         4.414423   \n",
       "1  er4E9WZnXGiJCk8r                    10.894777891322148         4.529836   \n",
       "2  LEm4YtC45KYNwbFg                     9.806142643511784         3.455996   \n",
       "4  EkWUnI8h1sgopN3a                     8.986733675059984         3.485714   \n",
       "5  jaLH0mWDEjbncGbL                      9.56720981988074         4.564721   \n",
       "\n",
       "  Is person case or control? Is person male or female?  \n",
       "0                    control                    female  \n",
       "1                    control                    female  \n",
       "2                       case                    female  \n",
       "4                    control                    female  \n",
       "5                    control                    female  "
      ]
     },
     "execution_count": 9,
     "metadata": {},
     "output_type": "execute_result"
    }
   ],
   "source": [
    "female_df = demo_df.loc[female_mask]\n",
    "female_df.head()"
   ]
  },
  {
   "cell_type": "markdown",
   "metadata": {},
   "source": [
    "<code>df.loc</code> also allows use to set columns, the general syntax is:\n",
    "\n",
    "```python\n",
    "df.loc[rows,columns]\n",
    "```\n",
    "So if we wanted to get the subject ids in which the individual is a female, we can do the following:"
   ]
  },
  {
   "cell_type": "code",
   "execution_count": 10,
   "metadata": {},
   "outputs": [
    {
     "data": {
      "text/plain": [
       "0    h1NuzaHTaJIM6QZi\n",
       "1    er4E9WZnXGiJCk8r\n",
       "2    LEm4YtC45KYNwbFg\n",
       "4    EkWUnI8h1sgopN3a\n",
       "5    jaLH0mWDEjbncGbL\n",
       "Name: subject_id, dtype: object"
      ]
     },
     "execution_count": 10,
     "metadata": {},
     "output_type": "execute_result"
    }
   ],
   "source": [
    "demo_df.loc[female_mask,'subject_id'].head()"
   ]
  },
  {
   "cell_type": "markdown",
   "metadata": {},
   "source": [
    "Notice how every entry in \"Is person male or female?\" is female. Using a mask we've selected only the rows in which the indivdual is a female. We can confirm that we have selected a subset of the dataframe by looking at the **index** (left-hand side), in which some numbers are skipped meaning that some rows (males) have been skipped"
   ]
  },
  {
   "cell_type": "markdown",
   "metadata": {},
   "source": [
    "***\n",
    "\n",
    "NOTE: An alternative way to apply a mask instead of <code>demo_df.loc</code> is as follows:\n",
    "\n",
    "\n",
    "```python\n",
    "demo_df[female_mask]\n",
    "```\n",
    "\n",
    "The issue with this is that it isn't *explicit whether we are subsetting our data by rows or columns*. For example if we had a column called <code>True</code>, then it might give us weird behaviours! Using <code>df.loc</code> ensures that we *explicitly tell pandas which rows and columns we're choosing*\n",
    "\n",
    "See https://stackoverflow.com/questions/38886080/python-pandas-series-why-use-loc for more info\n",
    "\n",
    "***\n"
   ]
  },
  {
   "cell_type": "markdown",
   "metadata": {},
   "source": [
    "## Merging in Multiple Data Tables"
   ]
  },
  {
   "cell_type": "markdown",
   "metadata": {},
   "source": [
    "Sometimes the data that we're working with a spread out across multiple tables. Ideally we'd like to have all this data available in one table for us to work with. Let's load in all the data available to us and take a look at what we're dealing with:"
   ]
  },
  {
   "cell_type": "code",
   "execution_count": 11,
   "metadata": {},
   "outputs": [],
   "source": [
    "neuro_df = pd.read_csv(neuro_data)\n",
    "cog_df = pd.read_csv(cognitive_data)"
   ]
  },
  {
   "cell_type": "code",
   "execution_count": 12,
   "metadata": {},
   "outputs": [
    {
     "data": {
      "text/html": [
       "<div>\n",
       "<style scoped>\n",
       "    .dataframe tbody tr th:only-of-type {\n",
       "        vertical-align: middle;\n",
       "    }\n",
       "\n",
       "    .dataframe tbody tr th {\n",
       "        vertical-align: top;\n",
       "    }\n",
       "\n",
       "    .dataframe thead th {\n",
       "        text-align: right;\n",
       "    }\n",
       "</style>\n",
       "<table border=\"1\" class=\"dataframe\">\n",
       "  <thead>\n",
       "    <tr style=\"text-align: right;\">\n",
       "      <th></th>\n",
       "      <th>subject_id</th>\n",
       "      <th>Measured brain volume</th>\n",
       "      <th>Measured brain surface area</th>\n",
       "      <th>Measured brain grey matter thickness</th>\n",
       "    </tr>\n",
       "  </thead>\n",
       "  <tbody>\n",
       "    <tr>\n",
       "      <th>0</th>\n",
       "      <td>55KMlrjdtghHZLfG</td>\n",
       "      <td>1216.321156</td>\n",
       "      <td>1635.504837</td>\n",
       "      <td>2.813704</td>\n",
       "    </tr>\n",
       "    <tr>\n",
       "      <th>1</th>\n",
       "      <td>Wcv979tbmAoLUGmB</td>\n",
       "      <td>1294.128556</td>\n",
       "      <td>1661.312955</td>\n",
       "      <td>6.254939</td>\n",
       "    </tr>\n",
       "    <tr>\n",
       "      <th>2</th>\n",
       "      <td>cOg2RWhtUekda5BM</td>\n",
       "      <td>1121.656731</td>\n",
       "      <td>1695.982823</td>\n",
       "      <td>4.359744</td>\n",
       "    </tr>\n",
       "    <tr>\n",
       "      <th>3</th>\n",
       "      <td>A7GddC92M0N5g3vJ</td>\n",
       "      <td>1340.437608</td>\n",
       "      <td>1924.084233</td>\n",
       "      <td>3.663411</td>\n",
       "    </tr>\n",
       "    <tr>\n",
       "      <th>4</th>\n",
       "      <td>XSEVEJq6OsbS2Xsi</td>\n",
       "      <td>1433.331198</td>\n",
       "      <td>1807.672001</td>\n",
       "      <td>6.513289</td>\n",
       "    </tr>\n",
       "  </tbody>\n",
       "</table>\n",
       "</div>"
      ],
      "text/plain": [
       "         subject_id  Measured brain volume  Measured brain surface area  \\\n",
       "0  55KMlrjdtghHZLfG            1216.321156                  1635.504837   \n",
       "1  Wcv979tbmAoLUGmB            1294.128556                  1661.312955   \n",
       "2  cOg2RWhtUekda5BM            1121.656731                  1695.982823   \n",
       "3  A7GddC92M0N5g3vJ            1340.437608                  1924.084233   \n",
       "4  XSEVEJq6OsbS2Xsi            1433.331198                  1807.672001   \n",
       "\n",
       "   Measured brain grey matter thickness  \n",
       "0                              2.813704  \n",
       "1                              6.254939  \n",
       "2                              4.359744  \n",
       "3                              3.663411  \n",
       "4                              6.513289  "
      ]
     },
     "execution_count": 12,
     "metadata": {},
     "output_type": "execute_result"
    }
   ],
   "source": [
    "neuro_df.head()"
   ]
  },
  {
   "cell_type": "code",
   "execution_count": 13,
   "metadata": {},
   "outputs": [
    {
     "data": {
      "text/html": [
       "<div>\n",
       "<style scoped>\n",
       "    .dataframe tbody tr th:only-of-type {\n",
       "        vertical-align: middle;\n",
       "    }\n",
       "\n",
       "    .dataframe tbody tr th {\n",
       "        vertical-align: top;\n",
       "    }\n",
       "\n",
       "    .dataframe thead th {\n",
       "        text-align: right;\n",
       "    }\n",
       "</style>\n",
       "<table border=\"1\" class=\"dataframe\">\n",
       "  <thead>\n",
       "    <tr style=\"text-align: right;\">\n",
       "      <th></th>\n",
       "      <th>subject_id</th>\n",
       "      <th>Neurocognitive battery assessment RX201</th>\n",
       "    </tr>\n",
       "  </thead>\n",
       "  <tbody>\n",
       "    <tr>\n",
       "      <th>0</th>\n",
       "      <td>OejOBT1PoKoG19GJ</td>\n",
       "      <td>84.0463015666604</td>\n",
       "    </tr>\n",
       "    <tr>\n",
       "      <th>1</th>\n",
       "      <td>5DKHOuVYhlDhnaY1</td>\n",
       "      <td>73.98598404203868</td>\n",
       "    </tr>\n",
       "    <tr>\n",
       "      <th>2</th>\n",
       "      <td>HHq8g0sZVCfWVdcg</td>\n",
       "      <td>84.5713573062133</td>\n",
       "    </tr>\n",
       "    <tr>\n",
       "      <th>3</th>\n",
       "      <td>uqBMSpUMV7YxcRNA</td>\n",
       "      <td>77.18019498058791</td>\n",
       "    </tr>\n",
       "    <tr>\n",
       "      <th>4</th>\n",
       "      <td>M2XZEKPhL4g6gXv2</td>\n",
       "      <td>56.00006052447458</td>\n",
       "    </tr>\n",
       "  </tbody>\n",
       "</table>\n",
       "</div>"
      ],
      "text/plain": [
       "         subject_id Neurocognitive battery assessment RX201\n",
       "0  OejOBT1PoKoG19GJ                        84.0463015666604\n",
       "1  5DKHOuVYhlDhnaY1                       73.98598404203868\n",
       "2  HHq8g0sZVCfWVdcg                        84.5713573062133\n",
       "3  uqBMSpUMV7YxcRNA                       77.18019498058791\n",
       "4  M2XZEKPhL4g6gXv2                       56.00006052447458"
      ]
     },
     "execution_count": 13,
     "metadata": {},
     "output_type": "execute_result"
    }
   ],
   "source": [
    "cog_df.head()"
   ]
  },
  {
   "cell_type": "markdown",
   "metadata": {},
   "source": [
    "Looks like these dataframes store different types of data! Our final exploration of the data will be reliant on being able to integrate across these differnet measurements. We can perform merging of this data through a process called *merging* or *joining* which is accomplished through <code>pd.merge</code>. Table merging relies on the ability to link separate data tables through a common **key**. \n",
    "\n",
    "The **key** is described as a column of data which uniquely identifies each row. In our case <code>subject_id</code> is a unique key across each of our data tables. Therefore we'd like to *merge our data on the <code>subject_id</code> key*. There are two ways to accomplish this:\n",
    "\n",
    "1. <code>pd.merge(df1,df2,...)</code> \n",
    "2. <code>df1.merge(df2,...)</code>\n",
    "\n",
    "\n",
    "Both methods are equivalent and method 2 saves a bit of typing if you're the lazy kind."
   ]
  },
  {
   "cell_type": "code",
   "execution_count": 14,
   "metadata": {},
   "outputs": [
    {
     "data": {
      "text/html": [
       "<div>\n",
       "<style scoped>\n",
       "    .dataframe tbody tr th:only-of-type {\n",
       "        vertical-align: middle;\n",
       "    }\n",
       "\n",
       "    .dataframe tbody tr th {\n",
       "        vertical-align: top;\n",
       "    }\n",
       "\n",
       "    .dataframe thead th {\n",
       "        text-align: right;\n",
       "    }\n",
       "</style>\n",
       "<table border=\"1\" class=\"dataframe\">\n",
       "  <thead>\n",
       "    <tr style=\"text-align: right;\">\n",
       "      <th></th>\n",
       "      <th>subject_id</th>\n",
       "      <th>Calculated socioeconomic status score</th>\n",
       "      <th>Education score</th>\n",
       "      <th>Is person case or control?</th>\n",
       "      <th>Is person male or female?</th>\n",
       "      <th>Measured brain volume</th>\n",
       "      <th>Measured brain surface area</th>\n",
       "      <th>Measured brain grey matter thickness</th>\n",
       "      <th>Neurocognitive battery assessment RX201</th>\n",
       "    </tr>\n",
       "  </thead>\n",
       "  <tbody>\n",
       "    <tr>\n",
       "      <th>0</th>\n",
       "      <td>h1NuzaHTaJIM6QZi</td>\n",
       "      <td>10.46819275002584</td>\n",
       "      <td>4.414423</td>\n",
       "      <td>control</td>\n",
       "      <td>female</td>\n",
       "      <td>1416.994066</td>\n",
       "      <td>1919.613895</td>\n",
       "      <td>8.715702</td>\n",
       "      <td>82.44403200496558</td>\n",
       "    </tr>\n",
       "    <tr>\n",
       "      <th>1</th>\n",
       "      <td>er4E9WZnXGiJCk8r</td>\n",
       "      <td>10.894777891322148</td>\n",
       "      <td>4.529836</td>\n",
       "      <td>control</td>\n",
       "      <td>female</td>\n",
       "      <td>1321.507702</td>\n",
       "      <td>1895.997272</td>\n",
       "      <td>6.516022</td>\n",
       "      <td>72.24443919868312</td>\n",
       "    </tr>\n",
       "    <tr>\n",
       "      <th>2</th>\n",
       "      <td>LEm4YtC45KYNwbFg</td>\n",
       "      <td>9.806142643511784</td>\n",
       "      <td>3.455996</td>\n",
       "      <td>case</td>\n",
       "      <td>female</td>\n",
       "      <td>1056.932445</td>\n",
       "      <td>1690.701079</td>\n",
       "      <td>3.569380</td>\n",
       "      <td>59.43805755950151</td>\n",
       "    </tr>\n",
       "    <tr>\n",
       "      <th>3</th>\n",
       "      <td>B9sIFZJs6UD51QAm</td>\n",
       "      <td>9.310570231612841</td>\n",
       "      <td>2.813627</td>\n",
       "      <td>control</td>\n",
       "      <td>male</td>\n",
       "      <td>1303.358436</td>\n",
       "      <td>1961.765667</td>\n",
       "      <td>4.947032</td>\n",
       "      <td>91.61414162964638</td>\n",
       "    </tr>\n",
       "    <tr>\n",
       "      <th>4</th>\n",
       "      <td>EkWUnI8h1sgopN3a</td>\n",
       "      <td>8.986733675059984</td>\n",
       "      <td>3.485714</td>\n",
       "      <td>control</td>\n",
       "      <td>female</td>\n",
       "      <td>951.380073</td>\n",
       "      <td>1683.487804</td>\n",
       "      <td>4.967411</td>\n",
       "      <td>80.19413970263216</td>\n",
       "    </tr>\n",
       "  </tbody>\n",
       "</table>\n",
       "</div>"
      ],
      "text/plain": [
       "         subject_id Calculated socioeconomic status score  Education score  \\\n",
       "0  h1NuzaHTaJIM6QZi                     10.46819275002584         4.414423   \n",
       "1  er4E9WZnXGiJCk8r                    10.894777891322148         4.529836   \n",
       "2  LEm4YtC45KYNwbFg                     9.806142643511784         3.455996   \n",
       "3  B9sIFZJs6UD51QAm                     9.310570231612841         2.813627   \n",
       "4  EkWUnI8h1sgopN3a                     8.986733675059984         3.485714   \n",
       "\n",
       "  Is person case or control? Is person male or female?  Measured brain volume  \\\n",
       "0                    control                    female            1416.994066   \n",
       "1                    control                    female            1321.507702   \n",
       "2                       case                    female            1056.932445   \n",
       "3                    control                      male            1303.358436   \n",
       "4                    control                    female             951.380073   \n",
       "\n",
       "   Measured brain surface area  Measured brain grey matter thickness  \\\n",
       "0                  1919.613895                              8.715702   \n",
       "1                  1895.997272                              6.516022   \n",
       "2                  1690.701079                              3.569380   \n",
       "3                  1961.765667                              4.947032   \n",
       "4                  1683.487804                              4.967411   \n",
       "\n",
       "  Neurocognitive battery assessment RX201  \n",
       "0                       82.44403200496558  \n",
       "1                       72.24443919868312  \n",
       "2                       59.43805755950151  \n",
       "3                       91.61414162964638  \n",
       "4                       80.19413970263216  "
      ]
     },
     "execution_count": 14,
     "metadata": {},
     "output_type": "execute_result"
    }
   ],
   "source": [
    "#Merge all dataframes\n",
    "df = demo_df.merge(neuro_df,on='subject_id').merge(cog_df,on='subject_id')\n",
    "df.head()"
   ]
  },
  {
   "cell_type": "markdown",
   "metadata": {},
   "source": [
    "***"
   ]
  },
  {
   "cell_type": "markdown",
   "metadata": {},
   "source": [
    "## Data Pre-processing"
   ]
  },
  {
   "cell_type": "markdown",
   "metadata": {},
   "source": [
    "Sometimes the data that we acquire isn't in a format that makes sense to directly merge into our DataFrame. The data may be messy, or in a format that needs to be pre-processed in some way in order to be useful to us. Take for example the reaction time dataset:"
   ]
  },
  {
   "cell_type": "code",
   "execution_count": 15,
   "metadata": {
    "scrolled": true
   },
   "outputs": [
    {
     "data": {
      "text/html": [
       "<div>\n",
       "<style scoped>\n",
       "    .dataframe tbody tr th:only-of-type {\n",
       "        vertical-align: middle;\n",
       "    }\n",
       "\n",
       "    .dataframe tbody tr th {\n",
       "        vertical-align: top;\n",
       "    }\n",
       "\n",
       "    .dataframe thead th {\n",
       "        text-align: right;\n",
       "    }\n",
       "</style>\n",
       "<table border=\"1\" class=\"dataframe\">\n",
       "  <thead>\n",
       "    <tr style=\"text-align: right;\">\n",
       "      <th></th>\n",
       "      <th>p7U1juxknprs2w5C</th>\n",
       "      <th>nd2Y3hGWKQVSHj75</th>\n",
       "      <th>yiMrzXHoelyY7EJM</th>\n",
       "      <th>7Tm46aoyg0a7aSBV</th>\n",
       "      <th>uoI3YX4pk5jx398v</th>\n",
       "      <th>5kOElvYqudKlE8Bp</th>\n",
       "      <th>xIUbvr9raKhRBchQ</th>\n",
       "      <th>6wrZ6ukoBfWQg5OL</th>\n",
       "      <th>WJujL13GB1K9QcEC</th>\n",
       "      <th>wPUQ3vuELVkpEQcC</th>\n",
       "      <th>...</th>\n",
       "      <th>qTvCVQ1vGCtuJHRM</th>\n",
       "      <th>zNiporfyXhj9D3gS</th>\n",
       "      <th>WBEjHVNo2VfLmzWM</th>\n",
       "      <th>rDeQWbepzEKqdcVs</th>\n",
       "      <th>jCODs4zdn9PFKAzt</th>\n",
       "      <th>cnrdgS42LprKpOEi</th>\n",
       "      <th>oNwDHbCbgtZRZQ4X</th>\n",
       "      <th>It90LdEUi6E6RuDR</th>\n",
       "      <th>kahbyz0El6rukGrb</th>\n",
       "      <th>rTxRLB7ELoW24QgC</th>\n",
       "    </tr>\n",
       "  </thead>\n",
       "  <tbody>\n",
       "    <tr>\n",
       "      <th>0</th>\n",
       "      <td>297.388996</td>\n",
       "      <td>624.544358</td>\n",
       "      <td>193.333440</td>\n",
       "      <td>1639.113721</td>\n",
       "      <td>358.863112</td>\n",
       "      <td>296.576470</td>\n",
       "      <td>219.897575</td>\n",
       "      <td>290.062739</td>\n",
       "      <td>527.461708</td>\n",
       "      <td>202.253649</td>\n",
       "      <td>...</td>\n",
       "      <td>795.961253</td>\n",
       "      <td>532.345279</td>\n",
       "      <td>670.139030</td>\n",
       "      <td>39.565514</td>\n",
       "      <td>956.630815</td>\n",
       "      <td>374.187821</td>\n",
       "      <td>167.447220</td>\n",
       "      <td>2396.595483</td>\n",
       "      <td>1204.517042</td>\n",
       "      <td>404.235658</td>\n",
       "    </tr>\n",
       "    <tr>\n",
       "      <th>1</th>\n",
       "      <td>3080.506797</td>\n",
       "      <td>1082.419826</td>\n",
       "      <td>457.412916</td>\n",
       "      <td>400.587468</td>\n",
       "      <td>239.549580</td>\n",
       "      <td>878.193209</td>\n",
       "      <td>1347.321810</td>\n",
       "      <td>616.614208</td>\n",
       "      <td>1827.628849</td>\n",
       "      <td>722.787143</td>\n",
       "      <td>...</td>\n",
       "      <td>1647.468287</td>\n",
       "      <td>1100.057318</td>\n",
       "      <td>945.467636</td>\n",
       "      <td>1399.424567</td>\n",
       "      <td>2528.348480</td>\n",
       "      <td>268.824695</td>\n",
       "      <td>592.891487</td>\n",
       "      <td>1349.853774</td>\n",
       "      <td>1748.239480</td>\n",
       "      <td>722.158525</td>\n",
       "    </tr>\n",
       "    <tr>\n",
       "      <th>2</th>\n",
       "      <td>757.828822</td>\n",
       "      <td>171.189947</td>\n",
       "      <td>1249.604311</td>\n",
       "      <td>453.522795</td>\n",
       "      <td>258.581993</td>\n",
       "      <td>1594.212406</td>\n",
       "      <td>1703.847500</td>\n",
       "      <td>352.556145</td>\n",
       "      <td>829.798312</td>\n",
       "      <td>876.089111</td>\n",
       "      <td>...</td>\n",
       "      <td>1324.450413</td>\n",
       "      <td>758.214912</td>\n",
       "      <td>318.801871</td>\n",
       "      <td>1747.286436</td>\n",
       "      <td>811.551506</td>\n",
       "      <td>656.965341</td>\n",
       "      <td>410.635970</td>\n",
       "      <td>595.677105</td>\n",
       "      <td>152.551560</td>\n",
       "      <td>482.634082</td>\n",
       "    </tr>\n",
       "    <tr>\n",
       "      <th>3</th>\n",
       "      <td>932.509308</td>\n",
       "      <td>321.421064</td>\n",
       "      <td>766.086451</td>\n",
       "      <td>105.153265</td>\n",
       "      <td>360.048778</td>\n",
       "      <td>323.752670</td>\n",
       "      <td>673.058323</td>\n",
       "      <td>203.096848</td>\n",
       "      <td>399.474765</td>\n",
       "      <td>411.244841</td>\n",
       "      <td>...</td>\n",
       "      <td>728.552762</td>\n",
       "      <td>1217.433509</td>\n",
       "      <td>247.809811</td>\n",
       "      <td>176.611345</td>\n",
       "      <td>368.144410</td>\n",
       "      <td>326.872324</td>\n",
       "      <td>230.662930</td>\n",
       "      <td>2437.635403</td>\n",
       "      <td>746.850921</td>\n",
       "      <td>1230.849790</td>\n",
       "    </tr>\n",
       "    <tr>\n",
       "      <th>4</th>\n",
       "      <td>753.429971</td>\n",
       "      <td>151.801627</td>\n",
       "      <td>905.437426</td>\n",
       "      <td>130.364513</td>\n",
       "      <td>683.543020</td>\n",
       "      <td>1103.167186</td>\n",
       "      <td>1143.336699</td>\n",
       "      <td>142.067043</td>\n",
       "      <td>452.658029</td>\n",
       "      <td>1296.602332</td>\n",
       "      <td>...</td>\n",
       "      <td>1874.615046</td>\n",
       "      <td>1236.868205</td>\n",
       "      <td>2226.146076</td>\n",
       "      <td>1126.258708</td>\n",
       "      <td>275.221173</td>\n",
       "      <td>2934.747615</td>\n",
       "      <td>967.621029</td>\n",
       "      <td>2308.719778</td>\n",
       "      <td>2369.434237</td>\n",
       "      <td>1424.368797</td>\n",
       "    </tr>\n",
       "  </tbody>\n",
       "</table>\n",
       "<p>5 rows × 400 columns</p>\n",
       "</div>"
      ],
      "text/plain": [
       "   p7U1juxknprs2w5C  nd2Y3hGWKQVSHj75  yiMrzXHoelyY7EJM  7Tm46aoyg0a7aSBV  \\\n",
       "0        297.388996        624.544358        193.333440       1639.113721   \n",
       "1       3080.506797       1082.419826        457.412916        400.587468   \n",
       "2        757.828822        171.189947       1249.604311        453.522795   \n",
       "3        932.509308        321.421064        766.086451        105.153265   \n",
       "4        753.429971        151.801627        905.437426        130.364513   \n",
       "\n",
       "   uoI3YX4pk5jx398v  5kOElvYqudKlE8Bp  xIUbvr9raKhRBchQ  6wrZ6ukoBfWQg5OL  \\\n",
       "0        358.863112        296.576470        219.897575        290.062739   \n",
       "1        239.549580        878.193209       1347.321810        616.614208   \n",
       "2        258.581993       1594.212406       1703.847500        352.556145   \n",
       "3        360.048778        323.752670        673.058323        203.096848   \n",
       "4        683.543020       1103.167186       1143.336699        142.067043   \n",
       "\n",
       "   WJujL13GB1K9QcEC  wPUQ3vuELVkpEQcC        ...         qTvCVQ1vGCtuJHRM  \\\n",
       "0        527.461708        202.253649        ...               795.961253   \n",
       "1       1827.628849        722.787143        ...              1647.468287   \n",
       "2        829.798312        876.089111        ...              1324.450413   \n",
       "3        399.474765        411.244841        ...               728.552762   \n",
       "4        452.658029       1296.602332        ...              1874.615046   \n",
       "\n",
       "   zNiporfyXhj9D3gS  WBEjHVNo2VfLmzWM  rDeQWbepzEKqdcVs  jCODs4zdn9PFKAzt  \\\n",
       "0        532.345279        670.139030         39.565514        956.630815   \n",
       "1       1100.057318        945.467636       1399.424567       2528.348480   \n",
       "2        758.214912        318.801871       1747.286436        811.551506   \n",
       "3       1217.433509        247.809811        176.611345        368.144410   \n",
       "4       1236.868205       2226.146076       1126.258708        275.221173   \n",
       "\n",
       "   cnrdgS42LprKpOEi  oNwDHbCbgtZRZQ4X  It90LdEUi6E6RuDR  kahbyz0El6rukGrb  \\\n",
       "0        374.187821        167.447220       2396.595483       1204.517042   \n",
       "1        268.824695        592.891487       1349.853774       1748.239480   \n",
       "2        656.965341        410.635970        595.677105        152.551560   \n",
       "3        326.872324        230.662930       2437.635403        746.850921   \n",
       "4       2934.747615        967.621029       2308.719778       2369.434237   \n",
       "\n",
       "   rTxRLB7ELoW24QgC  \n",
       "0        404.235658  \n",
       "1        722.158525  \n",
       "2        482.634082  \n",
       "3       1230.849790  \n",
       "4       1424.368797  \n",
       "\n",
       "[5 rows x 400 columns]"
      ]
     },
     "execution_count": 15,
     "metadata": {},
     "output_type": "execute_result"
    }
   ],
   "source": [
    "rt_df = pd.read_csv(reaction_data)\n",
    "rt_df.head()"
   ]
  },
  {
   "cell_type": "code",
   "execution_count": 16,
   "metadata": {},
   "outputs": [
    {
     "name": "stdout",
     "output_type": "stream",
     "text": [
      "<class 'pandas.core.frame.DataFrame'>\n",
      "RangeIndex: 250 entries, 0 to 249\n",
      "Columns: 400 entries, p7U1juxknprs2w5C to rTxRLB7ELoW24QgC\n",
      "dtypes: float64(400)\n",
      "memory usage: 781.3 KB\n"
     ]
    }
   ],
   "source": [
    "rt_df.info()"
   ]
  },
  {
   "cell_type": "markdown",
   "metadata": {},
   "source": [
    "First of all notice the following components:\n",
    "1. Each column maps onto a subject on our main DataFrame\n",
    "2. Each row is a recording from a trial, there are 250 entries\n",
    "\n",
    "The raw reaction times from each trial is noisy and not entirely useful for us. We'd like to take the average of each column. That is, we'd like to *apply* a function which takes the average of each column! Doing this is straightforward with pandas using the <code>DataFrame.apply</code> function! This function generally looks like this:\n",
    "\n",
    "\n",
    "```python\n",
    "rt_df.apply(func)\n",
    "```\n",
    "\n",
    "What this does is apply any function <code>func</code> onto each *column of the dataframe rt_df*. If we wanted to apply a function to each *row instead* we'd write it as follows:\n",
    "\n",
    "```python\n",
    "rt_df.apply(func,axis=1)\n",
    "```\n",
    "\n",
    "This will apply a function to each column instead of row! Let's see how this works in practice:"
   ]
  },
  {
   "cell_type": "code",
   "execution_count": 17,
   "metadata": {},
   "outputs": [
    {
     "data": {
      "text/plain": [
       "p7U1juxknprs2w5C    832.271877\n",
       "nd2Y3hGWKQVSHj75    659.682523\n",
       "yiMrzXHoelyY7EJM    706.891307\n",
       "7Tm46aoyg0a7aSBV    726.971312\n",
       "uoI3YX4pk5jx398v    670.550973\n",
       "dtype: float64"
      ]
     },
     "execution_count": 17,
     "metadata": {},
     "output_type": "execute_result"
    }
   ],
   "source": [
    "mean_rt = rt_df.apply(np.mean,axis=0)\n",
    "mean_rt.head()"
   ]
  },
  {
   "cell_type": "markdown",
   "metadata": {},
   "source": [
    "Here each subject ID has their mean reaction time computed! An alternative way to do this (for means specifically, this won't work for other custom functions) is to use <code>DataFrame.mean()</code>:"
   ]
  },
  {
   "cell_type": "code",
   "execution_count": 18,
   "metadata": {},
   "outputs": [
    {
     "data": {
      "text/plain": [
       "p7U1juxknprs2w5C    832.271877\n",
       "nd2Y3hGWKQVSHj75    659.682523\n",
       "yiMrzXHoelyY7EJM    706.891307\n",
       "7Tm46aoyg0a7aSBV    726.971312\n",
       "uoI3YX4pk5jx398v    670.550973\n",
       "dtype: float64"
      ]
     },
     "execution_count": 18,
     "metadata": {},
     "output_type": "execute_result"
    }
   ],
   "source": [
    "other_method = rt_df.mean()\n",
    "other_method.head()"
   ]
  },
  {
   "cell_type": "markdown",
   "metadata": {},
   "source": [
    "This returns an equivalent result. Under the hood it's doing the same thing as using <code>DataFrame.apply</code>. Now we need to merge in our data, one might think to use <code>DataFrame.merge</code>, but there is a caveat!\n",
    "\n",
    "\n",
    "mean_rt is no longer a DataFrame! In fact, it is called a **Series**, which is a list of (index,value) pairings. Remember <code>female_mask</code>? *That was also a **Series** object!*. \n",
    "\n",
    "The left-hand side is the index, the right hand-side is the value. So when merging this series into our main DataFrame we need to take this subtlety into consideration! We can get around this by first converting our **Series** into a DataFrame then merging it in as usual"
   ]
  },
  {
   "cell_type": "code",
   "execution_count": 19,
   "metadata": {},
   "outputs": [
    {
     "data": {
      "text/html": [
       "<div>\n",
       "<style scoped>\n",
       "    .dataframe tbody tr th:only-of-type {\n",
       "        vertical-align: middle;\n",
       "    }\n",
       "\n",
       "    .dataframe tbody tr th {\n",
       "        vertical-align: top;\n",
       "    }\n",
       "\n",
       "    .dataframe thead th {\n",
       "        text-align: right;\n",
       "    }\n",
       "</style>\n",
       "<table border=\"1\" class=\"dataframe\">\n",
       "  <thead>\n",
       "    <tr style=\"text-align: right;\">\n",
       "      <th></th>\n",
       "      <th>0</th>\n",
       "    </tr>\n",
       "  </thead>\n",
       "  <tbody>\n",
       "    <tr>\n",
       "      <th>p7U1juxknprs2w5C</th>\n",
       "      <td>832.271877</td>\n",
       "    </tr>\n",
       "    <tr>\n",
       "      <th>nd2Y3hGWKQVSHj75</th>\n",
       "      <td>659.682523</td>\n",
       "    </tr>\n",
       "    <tr>\n",
       "      <th>yiMrzXHoelyY7EJM</th>\n",
       "      <td>706.891307</td>\n",
       "    </tr>\n",
       "    <tr>\n",
       "      <th>7Tm46aoyg0a7aSBV</th>\n",
       "      <td>726.971312</td>\n",
       "    </tr>\n",
       "    <tr>\n",
       "      <th>uoI3YX4pk5jx398v</th>\n",
       "      <td>670.550973</td>\n",
       "    </tr>\n",
       "  </tbody>\n",
       "</table>\n",
       "</div>"
      ],
      "text/plain": [
       "                           0\n",
       "p7U1juxknprs2w5C  832.271877\n",
       "nd2Y3hGWKQVSHj75  659.682523\n",
       "yiMrzXHoelyY7EJM  706.891307\n",
       "7Tm46aoyg0a7aSBV  726.971312\n",
       "uoI3YX4pk5jx398v  670.550973"
      ]
     },
     "execution_count": 19,
     "metadata": {},
     "output_type": "execute_result"
    }
   ],
   "source": [
    "#Convert series to dataframe\n",
    "mean_rt_df = pd.DataFrame(mean_rt)\n",
    "mean_rt_df.head()"
   ]
  },
  {
   "cell_type": "markdown",
   "metadata": {},
   "source": [
    "Notice how the **index** on the left-hand side is now the subject keys? When we merge DataFrames we want to make sure we specify this since we don't have a column called 'subject_id' as we did before"
   ]
  },
  {
   "cell_type": "code",
   "execution_count": 20,
   "metadata": {},
   "outputs": [
    {
     "data": {
      "text/html": [
       "<div>\n",
       "<style scoped>\n",
       "    .dataframe tbody tr th:only-of-type {\n",
       "        vertical-align: middle;\n",
       "    }\n",
       "\n",
       "    .dataframe tbody tr th {\n",
       "        vertical-align: top;\n",
       "    }\n",
       "\n",
       "    .dataframe thead th {\n",
       "        text-align: right;\n",
       "    }\n",
       "</style>\n",
       "<table border=\"1\" class=\"dataframe\">\n",
       "  <thead>\n",
       "    <tr style=\"text-align: right;\">\n",
       "      <th></th>\n",
       "      <th>subject_id</th>\n",
       "      <th>Calculated socioeconomic status score</th>\n",
       "      <th>Education score</th>\n",
       "      <th>Is person case or control?</th>\n",
       "      <th>Is person male or female?</th>\n",
       "      <th>Measured brain volume</th>\n",
       "      <th>Measured brain surface area</th>\n",
       "      <th>Measured brain grey matter thickness</th>\n",
       "      <th>Neurocognitive battery assessment RX201</th>\n",
       "      <th>0</th>\n",
       "    </tr>\n",
       "  </thead>\n",
       "  <tbody>\n",
       "    <tr>\n",
       "      <th>0</th>\n",
       "      <td>h1NuzaHTaJIM6QZi</td>\n",
       "      <td>10.46819275002584</td>\n",
       "      <td>4.414423</td>\n",
       "      <td>control</td>\n",
       "      <td>female</td>\n",
       "      <td>1416.994066</td>\n",
       "      <td>1919.613895</td>\n",
       "      <td>8.715702</td>\n",
       "      <td>82.44403200496558</td>\n",
       "      <td>870.207541</td>\n",
       "    </tr>\n",
       "    <tr>\n",
       "      <th>1</th>\n",
       "      <td>er4E9WZnXGiJCk8r</td>\n",
       "      <td>10.894777891322148</td>\n",
       "      <td>4.529836</td>\n",
       "      <td>control</td>\n",
       "      <td>female</td>\n",
       "      <td>1321.507702</td>\n",
       "      <td>1895.997272</td>\n",
       "      <td>6.516022</td>\n",
       "      <td>72.24443919868312</td>\n",
       "      <td>713.317221</td>\n",
       "    </tr>\n",
       "    <tr>\n",
       "      <th>2</th>\n",
       "      <td>LEm4YtC45KYNwbFg</td>\n",
       "      <td>9.806142643511784</td>\n",
       "      <td>3.455996</td>\n",
       "      <td>case</td>\n",
       "      <td>female</td>\n",
       "      <td>1056.932445</td>\n",
       "      <td>1690.701079</td>\n",
       "      <td>3.569380</td>\n",
       "      <td>59.43805755950151</td>\n",
       "      <td>970.323949</td>\n",
       "    </tr>\n",
       "    <tr>\n",
       "      <th>3</th>\n",
       "      <td>B9sIFZJs6UD51QAm</td>\n",
       "      <td>9.310570231612841</td>\n",
       "      <td>2.813627</td>\n",
       "      <td>control</td>\n",
       "      <td>male</td>\n",
       "      <td>1303.358436</td>\n",
       "      <td>1961.765667</td>\n",
       "      <td>4.947032</td>\n",
       "      <td>91.61414162964638</td>\n",
       "      <td>763.525358</td>\n",
       "    </tr>\n",
       "    <tr>\n",
       "      <th>4</th>\n",
       "      <td>EkWUnI8h1sgopN3a</td>\n",
       "      <td>8.986733675059984</td>\n",
       "      <td>3.485714</td>\n",
       "      <td>control</td>\n",
       "      <td>female</td>\n",
       "      <td>951.380073</td>\n",
       "      <td>1683.487804</td>\n",
       "      <td>4.967411</td>\n",
       "      <td>80.19413970263216</td>\n",
       "      <td>755.453697</td>\n",
       "    </tr>\n",
       "  </tbody>\n",
       "</table>\n",
       "</div>"
      ],
      "text/plain": [
       "         subject_id Calculated socioeconomic status score  Education score  \\\n",
       "0  h1NuzaHTaJIM6QZi                     10.46819275002584         4.414423   \n",
       "1  er4E9WZnXGiJCk8r                    10.894777891322148         4.529836   \n",
       "2  LEm4YtC45KYNwbFg                     9.806142643511784         3.455996   \n",
       "3  B9sIFZJs6UD51QAm                     9.310570231612841         2.813627   \n",
       "4  EkWUnI8h1sgopN3a                     8.986733675059984         3.485714   \n",
       "\n",
       "  Is person case or control? Is person male or female?  Measured brain volume  \\\n",
       "0                    control                    female            1416.994066   \n",
       "1                    control                    female            1321.507702   \n",
       "2                       case                    female            1056.932445   \n",
       "3                    control                      male            1303.358436   \n",
       "4                    control                    female             951.380073   \n",
       "\n",
       "   Measured brain surface area  Measured brain grey matter thickness  \\\n",
       "0                  1919.613895                              8.715702   \n",
       "1                  1895.997272                              6.516022   \n",
       "2                  1690.701079                              3.569380   \n",
       "3                  1961.765667                              4.947032   \n",
       "4                  1683.487804                              4.967411   \n",
       "\n",
       "  Neurocognitive battery assessment RX201           0  \n",
       "0                       82.44403200496558  870.207541  \n",
       "1                       72.24443919868312  713.317221  \n",
       "2                       59.43805755950151  970.323949  \n",
       "3                       91.61414162964638  763.525358  \n",
       "4                       80.19413970263216  755.453697  "
      ]
     },
     "execution_count": 20,
     "metadata": {},
     "output_type": "execute_result"
    }
   ],
   "source": [
    "df = df.merge(mean_rt_df,left_on='subject_id',right_on=mean_rt_df.index)\n",
    "df.head()"
   ]
  },
  {
   "cell_type": "markdown",
   "metadata": {},
   "source": [
    "That's it! We'll deal with the ugly $0$ column name in a bit :)"
   ]
  },
  {
   "cell_type": "markdown",
   "metadata": {},
   "source": [
    "## Data Cleaning\n",
    "\n",
    "Data cleaning is a multi-step process that typically consists of the following steps:\n",
    "\n",
    "1. Renaming columns so that they're easier to work with\n",
    "2. Dealing NaN values or \"Impossible values\" (for example sex = -20) \n",
    "4. Removing columns that you're not interested in analyzing\n",
    "\n",
    "The process of data cleaning may be extensive and in many cases *is the most extensive part* of analyzing data. In this tutorial we'll quickly go over how one might perform each of the above steps using pandas and end off with a clean dataset that we can start exploring and visualizing.\n",
    "\n",
    "One key point is that data cleaning is sometimes easier if you visualize your data! This is a great thing to do when looking at whether you're dealing with impossible values that should not exist in your dataset"
   ]
  },
  {
   "cell_type": "markdown",
   "metadata": {},
   "source": [
    "### Renaming Columns"
   ]
  },
  {
   "cell_type": "markdown",
   "metadata": {},
   "source": [
    "In some cases the data that we acquire doesn't come in a format that make sense to merge into our dataframe. Either the data is too messy, is in a raw format that isn't directly useful for visualization and analysis or "
   ]
  },
  {
   "cell_type": "markdown",
   "metadata": {},
   "source": [
    "There are several reasons why one might want to rename their columns in an analysis. Here are a few:\n",
    "\n",
    "\n",
    "**Some columns just don't make any sense!** Take a look at one of the columns we're dealing with in our dataset called *Unnamed: 30*. Now tell me what exactly this column is supposed to tell you without looking through the dataset. *You can't*, instead you'll have to do the hard-work of deciphering this or writing it down in your notebook so you can keep track of what columns mean. In this case the solution is to first decipher the column, and there are several ways we could do this, then to *rename the column to one that makes much more sense and aligns with what the data indicates*. \n",
    "\n",
    "\n",
    "Here's another one: Our dataset has a column called 'How many days were you hospitalized for your mental illness'. You could pull this column from your dataset in the following way:\n",
    "\n",
    "```python\n",
    "df['Is person male or female?']\n",
    "```\n",
    "\n",
    "But typiing this out repeatedly is a pain and gets tiring quick. Life would be SO MUCH EASIER if we could just rename this column to access our data like this\n",
    "\n",
    "```python\n",
    "df['sex']\n",
    "```\n",
    "\n",
    "This is succint and gets to the point about what the variable means in the context of this data.\n",
    "\n",
    "***"
   ]
  },
  {
   "cell_type": "markdown",
   "metadata": {},
   "source": [
    "Let's tackle the first problem. First let's grab a list of columns:"
   ]
  },
  {
   "cell_type": "code",
   "execution_count": 21,
   "metadata": {},
   "outputs": [],
   "source": [
    "columns = df.columns"
   ]
  },
  {
   "cell_type": "code",
   "execution_count": 22,
   "metadata": {},
   "outputs": [
    {
     "name": "stdout",
     "output_type": "stream",
     "text": [
      "Index([                             'subject_id',\n",
      "         'Calculated socioeconomic status score',\n",
      "                               'Education score',\n",
      "                    'Is person case or control?',\n",
      "                     'Is person male or female?',\n",
      "                         'Measured brain volume',\n",
      "                   'Measured brain surface area',\n",
      "          'Measured brain grey matter thickness',\n",
      "       'Neurocognitive battery assessment RX201',\n",
      "                                               0],\n",
      "      dtype='object')\n"
     ]
    }
   ],
   "source": [
    "print(columns)"
   ]
  },
  {
   "cell_type": "code",
   "execution_count": 23,
   "metadata": {},
   "outputs": [],
   "source": [
    "shorten_map = {\n",
    "    'Calculated socioeconomic status score': 'se_score',\n",
    "    'Education score' : 'edu_score',\n",
    "    'Is person case or control?' : 'group',\n",
    "    'Is person male or female?' : 'sex',\n",
    "    'Measured brain volume' : 'brain_vol',\n",
    "    'Measured brain surface area': 'brain_surfarea',\n",
    "    'Measured brain grey matter thickness' : 'brain_gm_thick',\n",
    "    'Neurocognitive battery assessment RX201' : 'cog_score',\n",
    "    0 : 'mean_rt'\n",
    "}"
   ]
  },
  {
   "cell_type": "code",
   "execution_count": 24,
   "metadata": {},
   "outputs": [],
   "source": [
    "df = df.rename(shorten_map,axis=1)"
   ]
  },
  {
   "cell_type": "code",
   "execution_count": 25,
   "metadata": {},
   "outputs": [
    {
     "data": {
      "text/html": [
       "<div>\n",
       "<style scoped>\n",
       "    .dataframe tbody tr th:only-of-type {\n",
       "        vertical-align: middle;\n",
       "    }\n",
       "\n",
       "    .dataframe tbody tr th {\n",
       "        vertical-align: top;\n",
       "    }\n",
       "\n",
       "    .dataframe thead th {\n",
       "        text-align: right;\n",
       "    }\n",
       "</style>\n",
       "<table border=\"1\" class=\"dataframe\">\n",
       "  <thead>\n",
       "    <tr style=\"text-align: right;\">\n",
       "      <th></th>\n",
       "      <th>subject_id</th>\n",
       "      <th>se_score</th>\n",
       "      <th>edu_score</th>\n",
       "      <th>group</th>\n",
       "      <th>sex</th>\n",
       "      <th>brain_vol</th>\n",
       "      <th>brain_surfarea</th>\n",
       "      <th>brain_gm_thick</th>\n",
       "      <th>cog_score</th>\n",
       "      <th>mean_rt</th>\n",
       "    </tr>\n",
       "  </thead>\n",
       "  <tbody>\n",
       "    <tr>\n",
       "      <th>0</th>\n",
       "      <td>h1NuzaHTaJIM6QZi</td>\n",
       "      <td>10.46819275002584</td>\n",
       "      <td>4.414423</td>\n",
       "      <td>control</td>\n",
       "      <td>female</td>\n",
       "      <td>1416.994066</td>\n",
       "      <td>1919.613895</td>\n",
       "      <td>8.715702</td>\n",
       "      <td>82.44403200496558</td>\n",
       "      <td>870.207541</td>\n",
       "    </tr>\n",
       "    <tr>\n",
       "      <th>1</th>\n",
       "      <td>er4E9WZnXGiJCk8r</td>\n",
       "      <td>10.894777891322148</td>\n",
       "      <td>4.529836</td>\n",
       "      <td>control</td>\n",
       "      <td>female</td>\n",
       "      <td>1321.507702</td>\n",
       "      <td>1895.997272</td>\n",
       "      <td>6.516022</td>\n",
       "      <td>72.24443919868312</td>\n",
       "      <td>713.317221</td>\n",
       "    </tr>\n",
       "    <tr>\n",
       "      <th>2</th>\n",
       "      <td>LEm4YtC45KYNwbFg</td>\n",
       "      <td>9.806142643511784</td>\n",
       "      <td>3.455996</td>\n",
       "      <td>case</td>\n",
       "      <td>female</td>\n",
       "      <td>1056.932445</td>\n",
       "      <td>1690.701079</td>\n",
       "      <td>3.569380</td>\n",
       "      <td>59.43805755950151</td>\n",
       "      <td>970.323949</td>\n",
       "    </tr>\n",
       "    <tr>\n",
       "      <th>3</th>\n",
       "      <td>B9sIFZJs6UD51QAm</td>\n",
       "      <td>9.310570231612841</td>\n",
       "      <td>2.813627</td>\n",
       "      <td>control</td>\n",
       "      <td>male</td>\n",
       "      <td>1303.358436</td>\n",
       "      <td>1961.765667</td>\n",
       "      <td>4.947032</td>\n",
       "      <td>91.61414162964638</td>\n",
       "      <td>763.525358</td>\n",
       "    </tr>\n",
       "    <tr>\n",
       "      <th>4</th>\n",
       "      <td>EkWUnI8h1sgopN3a</td>\n",
       "      <td>8.986733675059984</td>\n",
       "      <td>3.485714</td>\n",
       "      <td>control</td>\n",
       "      <td>female</td>\n",
       "      <td>951.380073</td>\n",
       "      <td>1683.487804</td>\n",
       "      <td>4.967411</td>\n",
       "      <td>80.19413970263216</td>\n",
       "      <td>755.453697</td>\n",
       "    </tr>\n",
       "  </tbody>\n",
       "</table>\n",
       "</div>"
      ],
      "text/plain": [
       "         subject_id            se_score  edu_score    group     sex  \\\n",
       "0  h1NuzaHTaJIM6QZi   10.46819275002584   4.414423  control  female   \n",
       "1  er4E9WZnXGiJCk8r  10.894777891322148   4.529836  control  female   \n",
       "2  LEm4YtC45KYNwbFg   9.806142643511784   3.455996     case  female   \n",
       "3  B9sIFZJs6UD51QAm   9.310570231612841   2.813627  control    male   \n",
       "4  EkWUnI8h1sgopN3a   8.986733675059984   3.485714  control  female   \n",
       "\n",
       "     brain_vol  brain_surfarea  brain_gm_thick          cog_score     mean_rt  \n",
       "0  1416.994066     1919.613895        8.715702  82.44403200496558  870.207541  \n",
       "1  1321.507702     1895.997272        6.516022  72.24443919868312  713.317221  \n",
       "2  1056.932445     1690.701079        3.569380  59.43805755950151  970.323949  \n",
       "3  1303.358436     1961.765667        4.947032  91.61414162964638  763.525358  \n",
       "4   951.380073     1683.487804        4.967411  80.19413970263216  755.453697  "
      ]
     },
     "execution_count": 25,
     "metadata": {},
     "output_type": "execute_result"
    }
   ],
   "source": [
    "df.head()"
   ]
  },
  {
   "cell_type": "markdown",
   "metadata": {},
   "source": [
    "### Dealing with Impossible Values"
   ]
  },
  {
   "cell_type": "markdown",
   "metadata": {},
   "source": [
    "Data entry is a task that is incredibly prone to error. Sometimes data is collected incorrectly resulting in values that should not exist or are useful for helping us understand the phenomena of interest. First let's lay out some rules associated with our data that we *should know a priori*. \n",
    "\n",
    "- <code>subject_id</code> should be a random alphanumeric string\n",
    "- <code>se_score</code> is a value <100\n",
    "- <code>edu_score</code> is a value <100\n",
    "- <code>sex</code> male, female, or other\n",
    "- <code>group</code> control or case\n",
    "- <code>brain_vol</code> some floating point number that is positive\n",
    "- <code>brain_surfarea</code> some floating point number that is positive\n",
    "- <code>brain_gm_thick</code> some floating point number that is positive but not \"substantially big\"\n",
    "- <code>cog_score</code> some floating point number that is positive\n",
    "\n",
    "Let's quickly check over what kinds of values we have!"
   ]
  },
  {
   "cell_type": "code",
   "execution_count": 26,
   "metadata": {},
   "outputs": [
    {
     "data": {
      "text/html": [
       "<div>\n",
       "<style scoped>\n",
       "    .dataframe tbody tr th:only-of-type {\n",
       "        vertical-align: middle;\n",
       "    }\n",
       "\n",
       "    .dataframe tbody tr th {\n",
       "        vertical-align: top;\n",
       "    }\n",
       "\n",
       "    .dataframe thead th {\n",
       "        text-align: right;\n",
       "    }\n",
       "</style>\n",
       "<table border=\"1\" class=\"dataframe\">\n",
       "  <thead>\n",
       "    <tr style=\"text-align: right;\">\n",
       "      <th></th>\n",
       "      <th>subject_id</th>\n",
       "      <th>se_score</th>\n",
       "      <th>edu_score</th>\n",
       "      <th>group</th>\n",
       "      <th>sex</th>\n",
       "      <th>brain_vol</th>\n",
       "      <th>brain_surfarea</th>\n",
       "      <th>brain_gm_thick</th>\n",
       "      <th>cog_score</th>\n",
       "      <th>mean_rt</th>\n",
       "    </tr>\n",
       "  </thead>\n",
       "  <tbody>\n",
       "    <tr>\n",
       "      <th>0</th>\n",
       "      <td>h1NuzaHTaJIM6QZi</td>\n",
       "      <td>10.46819275002584</td>\n",
       "      <td>4.414423</td>\n",
       "      <td>control</td>\n",
       "      <td>female</td>\n",
       "      <td>1416.994066</td>\n",
       "      <td>1919.613895</td>\n",
       "      <td>8.715702</td>\n",
       "      <td>82.44403200496558</td>\n",
       "      <td>870.207541</td>\n",
       "    </tr>\n",
       "    <tr>\n",
       "      <th>1</th>\n",
       "      <td>er4E9WZnXGiJCk8r</td>\n",
       "      <td>10.894777891322148</td>\n",
       "      <td>4.529836</td>\n",
       "      <td>control</td>\n",
       "      <td>female</td>\n",
       "      <td>1321.507702</td>\n",
       "      <td>1895.997272</td>\n",
       "      <td>6.516022</td>\n",
       "      <td>72.24443919868312</td>\n",
       "      <td>713.317221</td>\n",
       "    </tr>\n",
       "    <tr>\n",
       "      <th>2</th>\n",
       "      <td>LEm4YtC45KYNwbFg</td>\n",
       "      <td>9.806142643511784</td>\n",
       "      <td>3.455996</td>\n",
       "      <td>case</td>\n",
       "      <td>female</td>\n",
       "      <td>1056.932445</td>\n",
       "      <td>1690.701079</td>\n",
       "      <td>3.569380</td>\n",
       "      <td>59.43805755950151</td>\n",
       "      <td>970.323949</td>\n",
       "    </tr>\n",
       "    <tr>\n",
       "      <th>3</th>\n",
       "      <td>B9sIFZJs6UD51QAm</td>\n",
       "      <td>9.310570231612841</td>\n",
       "      <td>2.813627</td>\n",
       "      <td>control</td>\n",
       "      <td>male</td>\n",
       "      <td>1303.358436</td>\n",
       "      <td>1961.765667</td>\n",
       "      <td>4.947032</td>\n",
       "      <td>91.61414162964638</td>\n",
       "      <td>763.525358</td>\n",
       "    </tr>\n",
       "    <tr>\n",
       "      <th>4</th>\n",
       "      <td>EkWUnI8h1sgopN3a</td>\n",
       "      <td>8.986733675059984</td>\n",
       "      <td>3.485714</td>\n",
       "      <td>control</td>\n",
       "      <td>female</td>\n",
       "      <td>951.380073</td>\n",
       "      <td>1683.487804</td>\n",
       "      <td>4.967411</td>\n",
       "      <td>80.19413970263216</td>\n",
       "      <td>755.453697</td>\n",
       "    </tr>\n",
       "  </tbody>\n",
       "</table>\n",
       "</div>"
      ],
      "text/plain": [
       "         subject_id            se_score  edu_score    group     sex  \\\n",
       "0  h1NuzaHTaJIM6QZi   10.46819275002584   4.414423  control  female   \n",
       "1  er4E9WZnXGiJCk8r  10.894777891322148   4.529836  control  female   \n",
       "2  LEm4YtC45KYNwbFg   9.806142643511784   3.455996     case  female   \n",
       "3  B9sIFZJs6UD51QAm   9.310570231612841   2.813627  control    male   \n",
       "4  EkWUnI8h1sgopN3a   8.986733675059984   3.485714  control  female   \n",
       "\n",
       "     brain_vol  brain_surfarea  brain_gm_thick          cog_score     mean_rt  \n",
       "0  1416.994066     1919.613895        8.715702  82.44403200496558  870.207541  \n",
       "1  1321.507702     1895.997272        6.516022  72.24443919868312  713.317221  \n",
       "2  1056.932445     1690.701079        3.569380  59.43805755950151  970.323949  \n",
       "3  1303.358436     1961.765667        4.947032  91.61414162964638  763.525358  \n",
       "4   951.380073     1683.487804        4.967411  80.19413970263216  755.453697  "
      ]
     },
     "execution_count": 26,
     "metadata": {},
     "output_type": "execute_result"
    }
   ],
   "source": [
    "df.head()"
   ]
  },
  {
   "cell_type": "markdown",
   "metadata": {},
   "source": [
    "1. Check numeric types:\n",
    "\n",
    "- se_score\n",
    "- edu_score\n",
    "- brain_vol\n",
    "- brain_surfarea\n",
    "- brai_gm_thick\n",
    "- cog_score"
   ]
  },
  {
   "cell_type": "markdown",
   "metadata": {},
   "source": [
    "First we can do an overall check on our data. Recall that <code>df.info</code> gives us a high level overview of our data. We can expect that all numeric data (listed above) should be of a numeric data type"
   ]
  },
  {
   "cell_type": "code",
   "execution_count": 27,
   "metadata": {},
   "outputs": [
    {
     "name": "stdout",
     "output_type": "stream",
     "text": [
      "<class 'pandas.core.frame.DataFrame'>\n",
      "Int64Index: 400 entries, 0 to 399\n",
      "Data columns (total 6 columns):\n",
      "se_score          400 non-null object\n",
      "edu_score         400 non-null float64\n",
      "brain_vol         400 non-null float64\n",
      "brain_surfarea    400 non-null float64\n",
      "brain_gm_thick    400 non-null float64\n",
      "cog_score         400 non-null object\n",
      "dtypes: float64(4), object(2)\n",
      "memory usage: 21.9+ KB\n"
     ]
    }
   ],
   "source": [
    "numeric_types = ['se_score','edu_score','brain_vol','brain_surfarea','brain_gm_thick','cog_score'] \n",
    "df[numeric_types].info()"
   ]
  },
  {
   "cell_type": "markdown",
   "metadata": {},
   "source": [
    "Notice how:\n",
    "\n",
    "- se_score\n",
    "- cog_score\n",
    "\n",
    "Are non-numeric. This is the first indication that there might be something up with our data. Let's inspect this a bit closer by examining what data is not numeric. \n",
    "\n",
    "First we need to know how to determine whether a value is a number or not. We can do this in many ways, but the method with the least hassle is to use python type-conversion. Recall that we can convert a variable from <code>string</code> to <code>float</code> using the python function <code>float()</code>. Also remember that *python will complain with a <code>ValueError</code>* if it cannot convert the <code>string</code> data into <code>float</code>. Turns out that we can actually use this to our advantage using the nifty <code>try/catch</code> functionality. Let's wrap this in a function:"
   ]
  },
  {
   "cell_type": "code",
   "execution_count": 28,
   "metadata": {},
   "outputs": [],
   "source": [
    "def is_number_numeric(x):\n",
    "    \n",
    "    try:\n",
    "        float(x)\n",
    "    except ValueError:\n",
    "        return False\n",
    "    else:\n",
    "        return True"
   ]
  },
  {
   "cell_type": "markdown",
   "metadata": {},
   "source": [
    "Now we want to *apply* this function <code>is_number_numeric</code>, to each element of our dataframe for our two suspect columns. It turns out that to *apply* a function to each *element* it's as easy as using the function <code>df.applymap</code>. <code>df.applymap(func)</code>, applies the function <code>func</code> to each element of a dataframe <code>df</code> and returns a new <code>DataFrame</code> with each element having the function applied to. This is easier to see in practice, let's use <code>applymap</code> to determine whether each number is numeric!"
   ]
  },
  {
   "cell_type": "code",
   "execution_count": 29,
   "metadata": {},
   "outputs": [
    {
     "data": {
      "text/html": [
       "<div>\n",
       "<style scoped>\n",
       "    .dataframe tbody tr th:only-of-type {\n",
       "        vertical-align: middle;\n",
       "    }\n",
       "\n",
       "    .dataframe tbody tr th {\n",
       "        vertical-align: top;\n",
       "    }\n",
       "\n",
       "    .dataframe thead th {\n",
       "        text-align: right;\n",
       "    }\n",
       "</style>\n",
       "<table border=\"1\" class=\"dataframe\">\n",
       "  <thead>\n",
       "    <tr style=\"text-align: right;\">\n",
       "      <th></th>\n",
       "      <th>se_score</th>\n",
       "      <th>cog_score</th>\n",
       "    </tr>\n",
       "  </thead>\n",
       "  <tbody>\n",
       "    <tr>\n",
       "      <th>0</th>\n",
       "      <td>True</td>\n",
       "      <td>True</td>\n",
       "    </tr>\n",
       "    <tr>\n",
       "      <th>1</th>\n",
       "      <td>True</td>\n",
       "      <td>True</td>\n",
       "    </tr>\n",
       "    <tr>\n",
       "      <th>2</th>\n",
       "      <td>True</td>\n",
       "      <td>True</td>\n",
       "    </tr>\n",
       "    <tr>\n",
       "      <th>3</th>\n",
       "      <td>True</td>\n",
       "      <td>True</td>\n",
       "    </tr>\n",
       "    <tr>\n",
       "      <th>4</th>\n",
       "      <td>True</td>\n",
       "      <td>True</td>\n",
       "    </tr>\n",
       "  </tbody>\n",
       "</table>\n",
       "</div>"
      ],
      "text/plain": [
       "   se_score  cog_score\n",
       "0      True       True\n",
       "1      True       True\n",
       "2      True       True\n",
       "3      True       True\n",
       "4      True       True"
      ]
     },
     "execution_count": 29,
     "metadata": {},
     "output_type": "execute_result"
    }
   ],
   "source": [
    "numeric_numbers = df[['se_score','cog_score']].applymap(is_number_numeric)\n",
    "numeric_numbers.head()"
   ]
  },
  {
   "cell_type": "markdown",
   "metadata": {},
   "source": [
    "Now we can use **conditional masking** in order to find rows in which the element cannot be converted into a <code>float</code>! "
   ]
  },
  {
   "cell_type": "code",
   "execution_count": 30,
   "metadata": {},
   "outputs": [
    {
     "data": {
      "text/plain": [
       "0    False\n",
       "1    False\n",
       "2    False\n",
       "3    False\n",
       "4    False\n",
       "Name: se_score, dtype: bool"
      ]
     },
     "execution_count": 30,
     "metadata": {},
     "output_type": "execute_result"
    }
   ],
   "source": [
    "se_score_mask = numeric_numbers['se_score'] == False\n",
    "se_score_mask.head()"
   ]
  },
  {
   "cell_type": "code",
   "execution_count": 31,
   "metadata": {},
   "outputs": [
    {
     "data": {
      "text/html": [
       "<div>\n",
       "<style scoped>\n",
       "    .dataframe tbody tr th:only-of-type {\n",
       "        vertical-align: middle;\n",
       "    }\n",
       "\n",
       "    .dataframe tbody tr th {\n",
       "        vertical-align: top;\n",
       "    }\n",
       "\n",
       "    .dataframe thead th {\n",
       "        text-align: right;\n",
       "    }\n",
       "</style>\n",
       "<table border=\"1\" class=\"dataframe\">\n",
       "  <thead>\n",
       "    <tr style=\"text-align: right;\">\n",
       "      <th></th>\n",
       "      <th>subject_id</th>\n",
       "      <th>se_score</th>\n",
       "      <th>edu_score</th>\n",
       "      <th>group</th>\n",
       "      <th>sex</th>\n",
       "      <th>brain_vol</th>\n",
       "      <th>brain_surfarea</th>\n",
       "      <th>brain_gm_thick</th>\n",
       "      <th>cog_score</th>\n",
       "      <th>mean_rt</th>\n",
       "    </tr>\n",
       "  </thead>\n",
       "  <tbody>\n",
       "    <tr>\n",
       "      <th>10</th>\n",
       "      <td>N270JLbSp7gSknwa</td>\n",
       "      <td>missing</td>\n",
       "      <td>4.051433</td>\n",
       "      <td>control</td>\n",
       "      <td>male</td>\n",
       "      <td>1433.232040</td>\n",
       "      <td>1691.251832</td>\n",
       "      <td>8.385789</td>\n",
       "      <td>63.32841427415659</td>\n",
       "      <td>722.223792</td>\n",
       "    </tr>\n",
       "    <tr>\n",
       "      <th>67</th>\n",
       "      <td>jEXLO78WvFrV6ZvH</td>\n",
       "      <td>missing</td>\n",
       "      <td>3.130900</td>\n",
       "      <td>case</td>\n",
       "      <td>female</td>\n",
       "      <td>1157.036298</td>\n",
       "      <td>1913.360408</td>\n",
       "      <td>3.280578</td>\n",
       "      <td>54.268254119115674</td>\n",
       "      <td>851.100871</td>\n",
       "    </tr>\n",
       "    <tr>\n",
       "      <th>128</th>\n",
       "      <td>DfxFYAnbVXUNwG4L</td>\n",
       "      <td>missing</td>\n",
       "      <td>2.330065</td>\n",
       "      <td>case</td>\n",
       "      <td>female</td>\n",
       "      <td>1054.202508</td>\n",
       "      <td>1733.823976</td>\n",
       "      <td>2.866103</td>\n",
       "      <td>49.960716656966945</td>\n",
       "      <td>864.267959</td>\n",
       "    </tr>\n",
       "    <tr>\n",
       "      <th>148</th>\n",
       "      <td>2hD1nvZ8yubeAJZQ</td>\n",
       "      <td>missing</td>\n",
       "      <td>4.067032</td>\n",
       "      <td>case</td>\n",
       "      <td>female</td>\n",
       "      <td>1128.513513</td>\n",
       "      <td>1751.795571</td>\n",
       "      <td>3.069786</td>\n",
       "      <td>57.67836256297097</td>\n",
       "      <td>833.317985</td>\n",
       "    </tr>\n",
       "    <tr>\n",
       "      <th>191</th>\n",
       "      <td>c2q3pJr5iqR3Y0nq</td>\n",
       "      <td>missing</td>\n",
       "      <td>2.810406</td>\n",
       "      <td>case</td>\n",
       "      <td>female</td>\n",
       "      <td>1203.930276</td>\n",
       "      <td>1843.758658</td>\n",
       "      <td>2.415522</td>\n",
       "      <td>54.96200471462524</td>\n",
       "      <td>830.564846</td>\n",
       "    </tr>\n",
       "  </tbody>\n",
       "</table>\n",
       "</div>"
      ],
      "text/plain": [
       "           subject_id se_score  edu_score    group     sex    brain_vol  \\\n",
       "10   N270JLbSp7gSknwa  missing   4.051433  control    male  1433.232040   \n",
       "67   jEXLO78WvFrV6ZvH  missing   3.130900     case  female  1157.036298   \n",
       "128  DfxFYAnbVXUNwG4L  missing   2.330065     case  female  1054.202508   \n",
       "148  2hD1nvZ8yubeAJZQ  missing   4.067032     case  female  1128.513513   \n",
       "191  c2q3pJr5iqR3Y0nq  missing   2.810406     case  female  1203.930276   \n",
       "\n",
       "     brain_surfarea  brain_gm_thick           cog_score     mean_rt  \n",
       "10      1691.251832        8.385789   63.32841427415659  722.223792  \n",
       "67      1913.360408        3.280578  54.268254119115674  851.100871  \n",
       "128     1733.823976        2.866103  49.960716656966945  864.267959  \n",
       "148     1751.795571        3.069786   57.67836256297097  833.317985  \n",
       "191     1843.758658        2.415522   54.96200471462524  830.564846  "
      ]
     },
     "execution_count": 31,
     "metadata": {},
     "output_type": "execute_result"
    }
   ],
   "source": [
    "df.loc[se_score_mask]"
   ]
  },
  {
   "cell_type": "markdown",
   "metadata": {},
   "source": [
    "Here's a one-liner to achieve the same thing!"
   ]
  },
  {
   "cell_type": "code",
   "execution_count": 32,
   "metadata": {},
   "outputs": [
    {
     "data": {
      "text/plain": [
       "10     missing\n",
       "67     missing\n",
       "128    missing\n",
       "148    missing\n",
       "191    missing\n",
       "Name: se_score, dtype: object"
      ]
     },
     "execution_count": 32,
     "metadata": {},
     "output_type": "execute_result"
    }
   ],
   "source": [
    "df.loc[numeric_numbers['se_score'] == False,'se_score']"
   ]
  },
  {
   "cell_type": "code",
   "execution_count": 33,
   "metadata": {},
   "outputs": [
    {
     "data": {
      "text/plain": [
       "8      refused\n",
       "18     refused\n",
       "56     refused\n",
       "177    refused\n",
       "180    refused\n",
       "182    refused\n",
       "201    refused\n",
       "218    refused\n",
       "383    refused\n",
       "Name: cog_score, dtype: object"
      ]
     },
     "execution_count": 33,
     "metadata": {},
     "output_type": "execute_result"
    }
   ],
   "source": [
    "df.loc[numeric_numbers['cog_score'] == False,'cog_score']"
   ]
  },
  {
   "cell_type": "markdown",
   "metadata": {},
   "source": [
    "Turns out that the values in <code>se_score</code> and <code>cog_score</code> that cannot be converted are 'missing' and 'refused' respectively. These values are effectively useless for our analysis, so we're going to have to replace them with **something**. Now there are two options here when trying to fill in missing or nonsense values:\n",
    "\n",
    "\n",
    "1. Replace them with a value which signals that we should ignore it and proceed on as usual\n",
    "2. Estimate what the value could be based on other information available to us\n",
    "\n",
    "This is the problem of **imputation** which is an active area of research in statistical modelling. We won't dive too deep into this as it is a course all on it's own. For now we'll replace the data with a \"nan\" value which is a special type of value provided for by numpy. The \"nan\" value indicates that this value is meaningless and should be ignored. \n",
    "\n",
    "To do this we can use masking to select and replace rows!"
   ]
  },
  {
   "cell_type": "code",
   "execution_count": 34,
   "metadata": {},
   "outputs": [
    {
     "data": {
      "text/html": [
       "<div>\n",
       "<style scoped>\n",
       "    .dataframe tbody tr th:only-of-type {\n",
       "        vertical-align: middle;\n",
       "    }\n",
       "\n",
       "    .dataframe tbody tr th {\n",
       "        vertical-align: top;\n",
       "    }\n",
       "\n",
       "    .dataframe thead th {\n",
       "        text-align: right;\n",
       "    }\n",
       "</style>\n",
       "<table border=\"1\" class=\"dataframe\">\n",
       "  <thead>\n",
       "    <tr style=\"text-align: right;\">\n",
       "      <th></th>\n",
       "      <th>subject_id</th>\n",
       "      <th>se_score</th>\n",
       "      <th>edu_score</th>\n",
       "      <th>group</th>\n",
       "      <th>sex</th>\n",
       "      <th>brain_vol</th>\n",
       "      <th>brain_surfarea</th>\n",
       "      <th>brain_gm_thick</th>\n",
       "      <th>cog_score</th>\n",
       "      <th>mean_rt</th>\n",
       "    </tr>\n",
       "  </thead>\n",
       "  <tbody>\n",
       "    <tr>\n",
       "      <th>10</th>\n",
       "      <td>N270JLbSp7gSknwa</td>\n",
       "      <td>NaN</td>\n",
       "      <td>4.051433</td>\n",
       "      <td>control</td>\n",
       "      <td>male</td>\n",
       "      <td>1433.232040</td>\n",
       "      <td>1691.251832</td>\n",
       "      <td>8.385789</td>\n",
       "      <td>63.32841427415659</td>\n",
       "      <td>722.223792</td>\n",
       "    </tr>\n",
       "    <tr>\n",
       "      <th>67</th>\n",
       "      <td>jEXLO78WvFrV6ZvH</td>\n",
       "      <td>NaN</td>\n",
       "      <td>3.130900</td>\n",
       "      <td>case</td>\n",
       "      <td>female</td>\n",
       "      <td>1157.036298</td>\n",
       "      <td>1913.360408</td>\n",
       "      <td>3.280578</td>\n",
       "      <td>54.268254119115674</td>\n",
       "      <td>851.100871</td>\n",
       "    </tr>\n",
       "    <tr>\n",
       "      <th>128</th>\n",
       "      <td>DfxFYAnbVXUNwG4L</td>\n",
       "      <td>NaN</td>\n",
       "      <td>2.330065</td>\n",
       "      <td>case</td>\n",
       "      <td>female</td>\n",
       "      <td>1054.202508</td>\n",
       "      <td>1733.823976</td>\n",
       "      <td>2.866103</td>\n",
       "      <td>49.960716656966945</td>\n",
       "      <td>864.267959</td>\n",
       "    </tr>\n",
       "    <tr>\n",
       "      <th>148</th>\n",
       "      <td>2hD1nvZ8yubeAJZQ</td>\n",
       "      <td>NaN</td>\n",
       "      <td>4.067032</td>\n",
       "      <td>case</td>\n",
       "      <td>female</td>\n",
       "      <td>1128.513513</td>\n",
       "      <td>1751.795571</td>\n",
       "      <td>3.069786</td>\n",
       "      <td>57.67836256297097</td>\n",
       "      <td>833.317985</td>\n",
       "    </tr>\n",
       "    <tr>\n",
       "      <th>191</th>\n",
       "      <td>c2q3pJr5iqR3Y0nq</td>\n",
       "      <td>NaN</td>\n",
       "      <td>2.810406</td>\n",
       "      <td>case</td>\n",
       "      <td>female</td>\n",
       "      <td>1203.930276</td>\n",
       "      <td>1843.758658</td>\n",
       "      <td>2.415522</td>\n",
       "      <td>54.96200471462524</td>\n",
       "      <td>830.564846</td>\n",
       "    </tr>\n",
       "  </tbody>\n",
       "</table>\n",
       "</div>"
      ],
      "text/plain": [
       "           subject_id se_score  edu_score    group     sex    brain_vol  \\\n",
       "10   N270JLbSp7gSknwa      NaN   4.051433  control    male  1433.232040   \n",
       "67   jEXLO78WvFrV6ZvH      NaN   3.130900     case  female  1157.036298   \n",
       "128  DfxFYAnbVXUNwG4L      NaN   2.330065     case  female  1054.202508   \n",
       "148  2hD1nvZ8yubeAJZQ      NaN   4.067032     case  female  1128.513513   \n",
       "191  c2q3pJr5iqR3Y0nq      NaN   2.810406     case  female  1203.930276   \n",
       "\n",
       "     brain_surfarea  brain_gm_thick           cog_score     mean_rt  \n",
       "10      1691.251832        8.385789   63.32841427415659  722.223792  \n",
       "67      1913.360408        3.280578  54.268254119115674  851.100871  \n",
       "128     1733.823976        2.866103  49.960716656966945  864.267959  \n",
       "148     1751.795571        3.069786   57.67836256297097  833.317985  \n",
       "191     1843.758658        2.415522   54.96200471462524  830.564846  "
      ]
     },
     "execution_count": 34,
     "metadata": {},
     "output_type": "execute_result"
    }
   ],
   "source": [
    "df.loc[numeric_numbers['se_score'] == False,'se_score'] = np.nan\n",
    "df.loc[numeric_numbers['cog_score'] == False,'cog_score'] = np.nan\n",
    "\n",
    "#View our changes as we did before!\n",
    "df.loc[numeric_numbers['se_score'] == False].head()"
   ]
  },
  {
   "cell_type": "markdown",
   "metadata": {},
   "source": [
    "An alternative way to fill in these missing values is to use the function <code>pd.to_numeric</code>. This will in effect convert all the data in the specified columns into a numeric type and replace an non-numeric values with a NaN. Why didn't we just use this from the get-go? Because it's important to know *what data you're replacing with NaN first before doing so!* Let's convert se_score and cog_score into numeric types:"
   ]
  },
  {
   "cell_type": "code",
   "execution_count": 35,
   "metadata": {},
   "outputs": [],
   "source": [
    "df.loc[:, ['se_score','cog_score']] = df.loc[:, ['se_score','cog_score']].apply(pd.to_numeric)"
   ]
  },
  {
   "cell_type": "code",
   "execution_count": 36,
   "metadata": {},
   "outputs": [
    {
     "name": "stdout",
     "output_type": "stream",
     "text": [
      "<class 'pandas.core.frame.DataFrame'>\n",
      "Int64Index: 400 entries, 0 to 399\n",
      "Data columns (total 10 columns):\n",
      "subject_id        400 non-null object\n",
      "se_score          395 non-null float64\n",
      "edu_score         400 non-null float64\n",
      "group             400 non-null object\n",
      "sex               400 non-null object\n",
      "brain_vol         400 non-null float64\n",
      "brain_surfarea    400 non-null float64\n",
      "brain_gm_thick    400 non-null float64\n",
      "cog_score         391 non-null float64\n",
      "mean_rt           400 non-null float64\n",
      "dtypes: float64(7), object(3)\n",
      "memory usage: 34.4+ KB\n"
     ]
    }
   ],
   "source": [
    "df.info()"
   ]
  },
  {
   "cell_type": "markdown",
   "metadata": {},
   "source": [
    "Problem fixed! Now let's fix the rest of the dataset is correct using conditional statements as we've done above!"
   ]
  },
  {
   "cell_type": "markdown",
   "metadata": {},
   "source": [
    "First we check that se_score, edu_score, and brain_gm_thick are not large. Let's say anything greater than 100"
   ]
  },
  {
   "cell_type": "code",
   "execution_count": 37,
   "metadata": {},
   "outputs": [
    {
     "data": {
      "text/html": [
       "<div>\n",
       "<style scoped>\n",
       "    .dataframe tbody tr th:only-of-type {\n",
       "        vertical-align: middle;\n",
       "    }\n",
       "\n",
       "    .dataframe tbody tr th {\n",
       "        vertical-align: top;\n",
       "    }\n",
       "\n",
       "    .dataframe thead th {\n",
       "        text-align: right;\n",
       "    }\n",
       "</style>\n",
       "<table border=\"1\" class=\"dataframe\">\n",
       "  <thead>\n",
       "    <tr style=\"text-align: right;\">\n",
       "      <th></th>\n",
       "      <th>se_score</th>\n",
       "      <th>edu_score</th>\n",
       "      <th>brain_gm_thick</th>\n",
       "    </tr>\n",
       "  </thead>\n",
       "  <tbody>\n",
       "    <tr>\n",
       "      <th>0</th>\n",
       "      <td>False</td>\n",
       "      <td>False</td>\n",
       "      <td>False</td>\n",
       "    </tr>\n",
       "    <tr>\n",
       "      <th>1</th>\n",
       "      <td>False</td>\n",
       "      <td>False</td>\n",
       "      <td>False</td>\n",
       "    </tr>\n",
       "    <tr>\n",
       "      <th>2</th>\n",
       "      <td>False</td>\n",
       "      <td>False</td>\n",
       "      <td>False</td>\n",
       "    </tr>\n",
       "    <tr>\n",
       "      <th>3</th>\n",
       "      <td>False</td>\n",
       "      <td>False</td>\n",
       "      <td>False</td>\n",
       "    </tr>\n",
       "    <tr>\n",
       "      <th>4</th>\n",
       "      <td>False</td>\n",
       "      <td>False</td>\n",
       "      <td>False</td>\n",
       "    </tr>\n",
       "  </tbody>\n",
       "</table>\n",
       "</div>"
      ],
      "text/plain": [
       "   se_score  edu_score  brain_gm_thick\n",
       "0     False      False           False\n",
       "1     False      False           False\n",
       "2     False      False           False\n",
       "3     False      False           False\n",
       "4     False      False           False"
      ]
     },
     "execution_count": 37,
     "metadata": {},
     "output_type": "execute_result"
    }
   ],
   "source": [
    "too_big = df[ ['se_score','edu_score','brain_gm_thick'] ] > 100\n",
    "too_big.head()"
   ]
  },
  {
   "cell_type": "markdown",
   "metadata": {},
   "source": [
    "Now let's apply the fix as we've done before"
   ]
  },
  {
   "cell_type": "code",
   "execution_count": 38,
   "metadata": {},
   "outputs": [],
   "source": [
    "df.loc[too_big['se_score'] == True, 'se_score'] = np.nan\n",
    "df.loc[too_big['edu_score'] == True, 'edu_score'] = np.nan\n",
    "df.loc[too_big['brain_gm_thick'] == True,'brain_gm_thick'] = np.nan"
   ]
  },
  {
   "cell_type": "code",
   "execution_count": 39,
   "metadata": {},
   "outputs": [
    {
     "data": {
      "text/html": [
       "<div>\n",
       "<style scoped>\n",
       "    .dataframe tbody tr th:only-of-type {\n",
       "        vertical-align: middle;\n",
       "    }\n",
       "\n",
       "    .dataframe tbody tr th {\n",
       "        vertical-align: top;\n",
       "    }\n",
       "\n",
       "    .dataframe thead th {\n",
       "        text-align: right;\n",
       "    }\n",
       "</style>\n",
       "<table border=\"1\" class=\"dataframe\">\n",
       "  <thead>\n",
       "    <tr style=\"text-align: right;\">\n",
       "      <th></th>\n",
       "      <th>subject_id</th>\n",
       "      <th>se_score</th>\n",
       "      <th>edu_score</th>\n",
       "      <th>group</th>\n",
       "      <th>sex</th>\n",
       "      <th>brain_vol</th>\n",
       "      <th>brain_surfarea</th>\n",
       "      <th>brain_gm_thick</th>\n",
       "      <th>cog_score</th>\n",
       "      <th>mean_rt</th>\n",
       "    </tr>\n",
       "  </thead>\n",
       "  <tbody>\n",
       "    <tr>\n",
       "      <th>0</th>\n",
       "      <td>h1NuzaHTaJIM6QZi</td>\n",
       "      <td>10.468193</td>\n",
       "      <td>4.414423</td>\n",
       "      <td>control</td>\n",
       "      <td>female</td>\n",
       "      <td>1416.994066</td>\n",
       "      <td>1919.613895</td>\n",
       "      <td>8.715702</td>\n",
       "      <td>82.444032</td>\n",
       "      <td>870.207541</td>\n",
       "    </tr>\n",
       "    <tr>\n",
       "      <th>1</th>\n",
       "      <td>er4E9WZnXGiJCk8r</td>\n",
       "      <td>10.894778</td>\n",
       "      <td>4.529836</td>\n",
       "      <td>control</td>\n",
       "      <td>female</td>\n",
       "      <td>1321.507702</td>\n",
       "      <td>1895.997272</td>\n",
       "      <td>6.516022</td>\n",
       "      <td>72.244439</td>\n",
       "      <td>713.317221</td>\n",
       "    </tr>\n",
       "    <tr>\n",
       "      <th>2</th>\n",
       "      <td>LEm4YtC45KYNwbFg</td>\n",
       "      <td>9.806143</td>\n",
       "      <td>3.455996</td>\n",
       "      <td>case</td>\n",
       "      <td>female</td>\n",
       "      <td>1056.932445</td>\n",
       "      <td>1690.701079</td>\n",
       "      <td>3.569380</td>\n",
       "      <td>59.438058</td>\n",
       "      <td>970.323949</td>\n",
       "    </tr>\n",
       "    <tr>\n",
       "      <th>3</th>\n",
       "      <td>B9sIFZJs6UD51QAm</td>\n",
       "      <td>9.310570</td>\n",
       "      <td>2.813627</td>\n",
       "      <td>control</td>\n",
       "      <td>male</td>\n",
       "      <td>1303.358436</td>\n",
       "      <td>1961.765667</td>\n",
       "      <td>4.947032</td>\n",
       "      <td>91.614142</td>\n",
       "      <td>763.525358</td>\n",
       "    </tr>\n",
       "    <tr>\n",
       "      <th>4</th>\n",
       "      <td>EkWUnI8h1sgopN3a</td>\n",
       "      <td>8.986734</td>\n",
       "      <td>3.485714</td>\n",
       "      <td>control</td>\n",
       "      <td>female</td>\n",
       "      <td>951.380073</td>\n",
       "      <td>1683.487804</td>\n",
       "      <td>4.967411</td>\n",
       "      <td>80.194140</td>\n",
       "      <td>755.453697</td>\n",
       "    </tr>\n",
       "  </tbody>\n",
       "</table>\n",
       "</div>"
      ],
      "text/plain": [
       "         subject_id   se_score  edu_score    group     sex    brain_vol  \\\n",
       "0  h1NuzaHTaJIM6QZi  10.468193   4.414423  control  female  1416.994066   \n",
       "1  er4E9WZnXGiJCk8r  10.894778   4.529836  control  female  1321.507702   \n",
       "2  LEm4YtC45KYNwbFg   9.806143   3.455996     case  female  1056.932445   \n",
       "3  B9sIFZJs6UD51QAm   9.310570   2.813627  control    male  1303.358436   \n",
       "4  EkWUnI8h1sgopN3a   8.986734   3.485714  control  female   951.380073   \n",
       "\n",
       "   brain_surfarea  brain_gm_thick  cog_score     mean_rt  \n",
       "0     1919.613895        8.715702  82.444032  870.207541  \n",
       "1     1895.997272        6.516022  72.244439  713.317221  \n",
       "2     1690.701079        3.569380  59.438058  970.323949  \n",
       "3     1961.765667        4.947032  91.614142  763.525358  \n",
       "4     1683.487804        4.967411  80.194140  755.453697  "
      ]
     },
     "execution_count": 39,
     "metadata": {},
     "output_type": "execute_result"
    }
   ],
   "source": [
    "df.head()"
   ]
  },
  {
   "cell_type": "markdown",
   "metadata": {},
   "source": [
    "At this point you've probably gotten the idea. *We need to extensively check our data before using it for errors!*. I'll just say (since I made up this data), that there are no more issues to resolve. But in reality you would have to perform checks on *all the data you plan to use!*. In any type of analysis workflow, data cleaning is the longest, most boring, but most important component of the workflow! The decisions you make here will influence the rest of your analysis!"
   ]
  },
  {
   "cell_type": "markdown",
   "metadata": {},
   "source": [
    "Now our dataset is ready to go! Let's visualize some things to learn interesting aspects of our data! Before we do that we need to save our data, this is an easy one-liner"
   ]
  },
  {
   "cell_type": "code",
   "execution_count": 40,
   "metadata": {},
   "outputs": [],
   "source": [
    "df.to_pickle('../output/cleaned_data.pkl')"
   ]
  },
  {
   "cell_type": "markdown",
   "metadata": {},
   "source": [
    "**BUT WAIT**: How do we automate this? Let's say we collect more data down the line and we want to spit out a cleaned up dataset. The answer to this is to download the data as a **Python script**. We won't get into automation in this workshop but it's something that is incredibly easy to do once you've gotten a Jupyter notebook prototype like this one set up!"
   ]
  }
 ],
 "metadata": {
  "kernelspec": {
   "display_name": "Python 3",
   "language": "python",
   "name": "python3"
  },
  "language_info": {
   "codemirror_mode": {
    "name": "ipython",
    "version": 3
   },
   "file_extension": ".py",
   "mimetype": "text/x-python",
   "name": "python",
   "nbconvert_exporter": "python",
   "pygments_lexer": "ipython3",
   "version": "3.6.0"
  }
 },
 "nbformat": 4,
 "nbformat_minor": 2
}
